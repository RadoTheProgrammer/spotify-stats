{
 "cells": [
  {
   "cell_type": "code",
   "execution_count": 77,
   "id": "c4aa546f",
   "metadata": {},
   "outputs": [],
   "source": [
    "import json\n",
    "import pandas as pd\n",
    "import matplotlib.pyplot as plt\n",
    "df = pd.read_csv(\"StreamingHistory.csv\", parse_dates=[\"endTime\"])"
   ]
  },
  {
   "cell_type": "code",
   "execution_count": 78,
   "id": "6b6dc159",
   "metadata": {},
   "outputs": [
    {
     "data": {
      "application/vnd.microsoft.datawrangler.viewer.v0+json": {
       "columns": [
        {
         "name": "index",
         "rawType": "int64",
         "type": "integer"
        },
        {
         "name": "endTime",
         "rawType": "datetime64[ns]",
         "type": "datetime"
        },
        {
         "name": "artistName",
         "rawType": "object",
         "type": "string"
        },
        {
         "name": "trackName",
         "rawType": "object",
         "type": "string"
        },
        {
         "name": "timePlayed",
         "rawType": "int64",
         "type": "integer"
        }
       ],
       "ref": "48943996-1207-4884-9437-311ebc5b4e70",
       "rows": [
        [
         "0",
         "2024-06-05 17:23:00",
         "Nora En Pure",
         "Aquatic",
         "39445"
        ],
        [
         "1",
         "2024-06-06 10:35:00",
         "Rogue",
         "Let's Talk",
         "10602"
        ],
        [
         "2",
         "2024-06-06 10:35:00",
         "Rogue",
         "Let's Talk",
         "158016"
        ],
        [
         "3",
         "2024-06-06 10:36:00",
         "King Serenity",
         "All for U (Ameyatchi)",
         "13653"
        ],
        [
         "4",
         "2024-06-06 10:38:00",
         "Jungeli",
         "Petit génie",
         "122069"
        ],
        [
         "5",
         "2024-06-06 10:39:00",
         "David Guetta",
         "Don't Leave Me Alone (feat. Anne-Marie)",
         "77525"
        ],
        [
         "6",
         "2024-06-06 11:51:00",
         "Aya Nakamura",
         "Copines",
         "84480"
        ],
        [
         "7",
         "2024-06-06 11:53:00",
         "Aya Nakamura",
         "Copines",
         "87410"
        ],
        [
         "8",
         "2024-06-06 11:54:00",
         "Rema",
         "Calm Down",
         "107328"
        ],
        [
         "9",
         "2024-06-06 11:58:00",
         "Ed Sheeran",
         "Eyes Closed",
         "194848"
        ],
        [
         "10",
         "2024-06-06 11:59:00",
         "Billie Eilish",
         "hotline (edit)",
         "5065"
        ],
        [
         "11",
         "2024-06-06 11:59:00",
         "Richy Mitch & The Coal Miners",
         "Evergreen",
         "87000"
        ],
        [
         "12",
         "2024-06-06 13:21:00",
         "Eminem",
         "Houdini",
         "92827"
        ],
        [
         "13",
         "2024-06-06 13:21:00",
         "George Ezra",
         "Budapest",
         "540"
        ],
        [
         "14",
         "2024-06-06 13:22:00",
         "Timaya",
         "Cold Outside",
         "3818"
        ],
        [
         "15",
         "2024-06-06 13:25:00",
         "Timaya",
         "Cold Outside",
         "177427"
        ],
        [
         "16",
         "2024-06-06 13:27:00",
         "CKay",
         "emiliana",
         "166642"
        ],
        [
         "17",
         "2024-06-06 13:30:00",
         "Harry Styles",
         "Watermelon Sugar",
         "4202"
        ],
        [
         "18",
         "2024-06-06 13:30:00",
         "Tinlicker",
         "Because You Move Me",
         "144679"
        ],
        [
         "19",
         "2024-06-06 13:34:00",
         "Billie Eilish",
         "What Was I Made For? [From The Motion Picture \"Barbie\"]",
         "222369"
        ],
        [
         "20",
         "2024-06-06 13:36:00",
         "Tyler Shaw",
         "Love You Still (abcdefu romantic version)",
         "150173"
        ],
        [
         "21",
         "2024-06-06 13:38:00",
         "CKay",
         "love nwantiti (feat. ElGrande Toto) - North African Remix",
         "135480"
        ],
        [
         "22",
         "2024-06-06 13:42:00",
         "Jason Mraz",
         "I'm Yours",
         "242946"
        ],
        [
         "23",
         "2024-06-06 13:46:00",
         "JVKE",
         "this is what winter feels like",
         "194782"
        ],
        [
         "24",
         "2024-06-06 13:49:00",
         "Fools Garden",
         "Lemon Tree",
         "191026"
        ],
        [
         "25",
         "2024-06-06 13:52:00",
         "Trinix",
         "She Said (Big Jet Plane)",
         "173750"
        ],
        [
         "26",
         "2024-06-06 13:53:00",
         "Martin Arteta",
         "Past Lives",
         "76178"
        ],
        [
         "27",
         "2024-06-06 13:56:00",
         "Pheelz",
         "Finesse",
         "155293"
        ],
        [
         "28",
         "2024-06-06 13:59:00",
         "Kizz Daniel",
         "Nesesari",
         "178000"
        ],
        [
         "29",
         "2024-06-06 14:02:00",
         "Timaya",
         "Cold Outside",
         "181224"
        ],
        [
         "30",
         "2024-06-06 17:42:00",
         "Fireboy DML",
         "Bandana",
         "6624"
        ],
        [
         "31",
         "2024-06-06 17:42:00",
         "Jungeli",
         "Petit génie",
         "247477"
        ],
        [
         "32",
         "2024-06-06 18:27:00",
         "Fireboy DML",
         "Bandana",
         "61953"
        ],
        [
         "33",
         "2024-06-06 20:34:00",
         "JVKE",
         "golden hour",
         "0"
        ],
        [
         "34",
         "2024-06-06 20:34:00",
         "Definition",
         "Trojan Love - Original Club Mix",
         "241"
        ],
        [
         "35",
         "2024-06-06 20:34:00",
         "Kygo",
         "Without You (with HAYLA)",
         "164"
        ],
        [
         "36",
         "2024-06-06 20:34:00",
         "Kygo",
         "Without You (with HAYLA)",
         "67"
        ],
        [
         "37",
         "2024-06-06 20:35:00",
         "Jungeli",
         "Petit génie",
         "247381"
        ],
        [
         "38",
         "2024-06-06 20:36:00",
         "Harry Styles",
         "As It Was",
         "0"
        ],
        [
         "39",
         "2024-06-06 20:36:00",
         "Definition",
         "Trojan Love - Original Club Mix",
         "91"
        ],
        [
         "40",
         "2024-06-06 20:39:00",
         "Rogue",
         "Let's Talk",
         "230608"
        ],
        [
         "41",
         "2024-06-06 20:40:00",
         "Rema",
         "Calm Down",
         "86760"
        ],
        [
         "42",
         "2024-06-06 20:42:00",
         "Clean Bandit",
         "Symphony (feat. Zara Larsson)",
         "8768"
        ],
        [
         "43",
         "2024-06-06 20:42:00",
         "Benson Boone",
         "Beautiful Things",
         "1258"
        ],
        [
         "44",
         "2024-06-06 20:42:00",
         "Crazy Frog",
         "Popcorn",
         "159473"
        ],
        [
         "45",
         "2024-06-06 20:42:00",
         "Jungeli",
         "Petit génie",
         "2090"
        ],
        [
         "46",
         "2024-06-06 20:43:00",
         "Majestic",
         "Rasputin",
         "44138"
        ],
        [
         "47",
         "2024-06-06 20:46:00",
         "Benson Boone",
         "Beautiful Things",
         "180304"
        ],
        [
         "48",
         "2024-06-06 20:47:00",
         "Imanbek",
         "Belly Dancer",
         "53051"
        ],
        [
         "49",
         "2024-06-06 20:47:00",
         "Majestic",
         "Rasputin",
         "831"
        ]
       ],
       "shape": {
        "columns": 4,
        "rows": 13684
       }
      },
      "text/html": [
       "<div>\n",
       "<style scoped>\n",
       "    .dataframe tbody tr th:only-of-type {\n",
       "        vertical-align: middle;\n",
       "    }\n",
       "\n",
       "    .dataframe tbody tr th {\n",
       "        vertical-align: top;\n",
       "    }\n",
       "\n",
       "    .dataframe thead th {\n",
       "        text-align: right;\n",
       "    }\n",
       "</style>\n",
       "<table border=\"1\" class=\"dataframe\">\n",
       "  <thead>\n",
       "    <tr style=\"text-align: right;\">\n",
       "      <th></th>\n",
       "      <th>endTime</th>\n",
       "      <th>artistName</th>\n",
       "      <th>trackName</th>\n",
       "      <th>timePlayed</th>\n",
       "    </tr>\n",
       "  </thead>\n",
       "  <tbody>\n",
       "    <tr>\n",
       "      <th>0</th>\n",
       "      <td>2024-06-05 17:23:00</td>\n",
       "      <td>Nora En Pure</td>\n",
       "      <td>Aquatic</td>\n",
       "      <td>39445</td>\n",
       "    </tr>\n",
       "    <tr>\n",
       "      <th>1</th>\n",
       "      <td>2024-06-06 10:35:00</td>\n",
       "      <td>Rogue</td>\n",
       "      <td>Let's Talk</td>\n",
       "      <td>10602</td>\n",
       "    </tr>\n",
       "    <tr>\n",
       "      <th>2</th>\n",
       "      <td>2024-06-06 10:35:00</td>\n",
       "      <td>Rogue</td>\n",
       "      <td>Let's Talk</td>\n",
       "      <td>158016</td>\n",
       "    </tr>\n",
       "    <tr>\n",
       "      <th>3</th>\n",
       "      <td>2024-06-06 10:36:00</td>\n",
       "      <td>King Serenity</td>\n",
       "      <td>All for U (Ameyatchi)</td>\n",
       "      <td>13653</td>\n",
       "    </tr>\n",
       "    <tr>\n",
       "      <th>4</th>\n",
       "      <td>2024-06-06 10:38:00</td>\n",
       "      <td>Jungeli</td>\n",
       "      <td>Petit génie</td>\n",
       "      <td>122069</td>\n",
       "    </tr>\n",
       "    <tr>\n",
       "      <th>...</th>\n",
       "      <td>...</td>\n",
       "      <td>...</td>\n",
       "      <td>...</td>\n",
       "      <td>...</td>\n",
       "    </tr>\n",
       "    <tr>\n",
       "      <th>13679</th>\n",
       "      <td>2025-06-06 19:04:00</td>\n",
       "      <td>Dmitri Shostakovich</td>\n",
       "      <td>24 Preludes, Op. 34: No. 24 in D Minor. Allegr...</td>\n",
       "      <td>80503</td>\n",
       "    </tr>\n",
       "    <tr>\n",
       "      <th>13680</th>\n",
       "      <td>2025-06-06 19:05:00</td>\n",
       "      <td>Dmitri Shostakovich</td>\n",
       "      <td>24 Preludes, Op. 34: No. 10 in C-Sharp Minor. ...</td>\n",
       "      <td>29141</td>\n",
       "    </tr>\n",
       "    <tr>\n",
       "      <th>13681</th>\n",
       "      <td>2025-06-06 19:14:00</td>\n",
       "      <td>Dmitri Shostakovich</td>\n",
       "      <td>24 Preludes, Op. 34: No. 8 in F-Sharp Minor. A...</td>\n",
       "      <td>43235</td>\n",
       "    </tr>\n",
       "    <tr>\n",
       "      <th>13682</th>\n",
       "      <td>2025-06-06 22:07:00</td>\n",
       "      <td>Duumu</td>\n",
       "      <td>Talk!</td>\n",
       "      <td>189278</td>\n",
       "    </tr>\n",
       "    <tr>\n",
       "      <th>13683</th>\n",
       "      <td>2025-06-06 22:08:00</td>\n",
       "      <td>Duumu</td>\n",
       "      <td>Intentions</td>\n",
       "      <td>393</td>\n",
       "    </tr>\n",
       "  </tbody>\n",
       "</table>\n",
       "<p>13684 rows × 4 columns</p>\n",
       "</div>"
      ],
      "text/plain": [
       "                  endTime           artistName  \\\n",
       "0     2024-06-05 17:23:00         Nora En Pure   \n",
       "1     2024-06-06 10:35:00                Rogue   \n",
       "2     2024-06-06 10:35:00                Rogue   \n",
       "3     2024-06-06 10:36:00        King Serenity   \n",
       "4     2024-06-06 10:38:00              Jungeli   \n",
       "...                   ...                  ...   \n",
       "13679 2025-06-06 19:04:00  Dmitri Shostakovich   \n",
       "13680 2025-06-06 19:05:00  Dmitri Shostakovich   \n",
       "13681 2025-06-06 19:14:00  Dmitri Shostakovich   \n",
       "13682 2025-06-06 22:07:00                Duumu   \n",
       "13683 2025-06-06 22:08:00                Duumu   \n",
       "\n",
       "                                               trackName  timePlayed  \n",
       "0                                                Aquatic       39445  \n",
       "1                                             Let's Talk       10602  \n",
       "2                                             Let's Talk      158016  \n",
       "3                                  All for U (Ameyatchi)       13653  \n",
       "4                                            Petit génie      122069  \n",
       "...                                                  ...         ...  \n",
       "13679  24 Preludes, Op. 34: No. 24 in D Minor. Allegr...       80503  \n",
       "13680  24 Preludes, Op. 34: No. 10 in C-Sharp Minor. ...       29141  \n",
       "13681  24 Preludes, Op. 34: No. 8 in F-Sharp Minor. A...       43235  \n",
       "13682                                              Talk!      189278  \n",
       "13683                                         Intentions         393  \n",
       "\n",
       "[13684 rows x 4 columns]"
      ]
     },
     "execution_count": 78,
     "metadata": {},
     "output_type": "execute_result"
    }
   ],
   "source": [
    "df"
   ]
  },
  {
   "cell_type": "code",
   "execution_count": 82,
   "id": "edd21ed5",
   "metadata": {},
   "outputs": [],
   "source": [
    "df_groups_week = df.groupby(pd.Grouper(key='endTime', freq='1W'))"
   ]
  },
  {
   "cell_type": "code",
   "execution_count": 34,
   "id": "7b1675b8",
   "metadata": {},
   "outputs": [
    {
     "data": {
      "application/vnd.microsoft.datawrangler.viewer.v0+json": {
       "columns": [
        {
         "name": "index",
         "rawType": "int64",
         "type": "integer"
        },
        {
         "name": "artistName",
         "rawType": "object",
         "type": "string"
        },
        {
         "name": "0",
         "rawType": "int64",
         "type": "integer"
        }
       ],
       "ref": "17bfa100-c75c-479a-b313-4d6d2c768eb7",
       "rows": [
        [
         "0",
         "0to8",
         "1"
        ],
        [
         "1",
         "1da Banton",
         "20"
        ],
        [
         "2",
         "21 Savage",
         "1"
        ],
        [
         "3",
         "2KE",
         "1"
        ],
        [
         "4",
         "5 Seconds of Summer",
         "2"
        ],
        [
         "5",
         "6ix9ine",
         "1"
        ],
        [
         "6",
         "A Boogie Wit da Hoodie",
         "1"
        ],
        [
         "7",
         "A Touch Of Class",
         "1"
        ],
        [
         "8",
         "A$AP Rocky",
         "2"
        ],
        [
         "9",
         "A-GON",
         "3"
        ],
        [
         "10",
         "A-Star",
         "5"
        ],
        [
         "11",
         "ACRAZE",
         "1"
        ],
        [
         "12",
         "AK 33",
         "1"
        ],
        [
         "13",
         "AK AUSSERKONTROLLE",
         "1"
        ],
        [
         "14",
         "AL3JANDRO",
         "13"
        ],
        [
         "15",
         "ALLY",
         "3"
        ],
        [
         "16",
         "ANGL",
         "5"
        ],
        [
         "17",
         "ATRIP",
         "1"
        ],
        [
         "18",
         "AZURE",
         "2"
        ],
        [
         "19",
         "A_A_RonHD",
         "1"
        ],
        [
         "20",
         "Adam La Nuit",
         "1"
        ],
        [
         "21",
         "Adam Pearce",
         "1"
        ],
        [
         "22",
         "Adam Port",
         "1"
        ],
        [
         "23",
         "Adam Waldau",
         "1"
        ],
        [
         "24",
         "Adekunle Gold",
         "16"
        ],
        [
         "25",
         "AdhesiveWombat",
         "5"
        ],
        [
         "26",
         "Adriatique",
         "1"
        ],
        [
         "27",
         "Aero Chord",
         "1"
        ],
        [
         "28",
         "Aestivum",
         "1"
        ],
        [
         "29",
         "Afro B",
         "27"
        ],
        [
         "30",
         "Agents Of Time",
         "1"
        ],
        [
         "31",
         "Aiobahn",
         "1"
        ],
        [
         "32",
         "Ajebo Hustlers",
         "9"
        ],
        [
         "33",
         "Alan Walker",
         "14"
        ],
        [
         "34",
         "Albin Svensson",
         "1"
        ],
        [
         "35",
         "Aldenosaur",
         "1"
        ],
        [
         "36",
         "Alec Benjamin",
         "8"
        ],
        [
         "37",
         "Alex G",
         "1"
        ],
        [
         "38",
         "Alex Skrindo",
         "1"
        ],
        [
         "39",
         "Alex Warren",
         "7"
        ],
        [
         "40",
         "Alex Yurkiv",
         "1"
        ],
        [
         "41",
         "Alexander 23",
         "2"
        ],
        [
         "42",
         "Alexander Stewart",
         "1"
        ],
        [
         "43",
         "Alexis Pavot",
         "1"
        ],
        [
         "44",
         "Alicia Keys",
         "9"
        ],
        [
         "45",
         "Alok",
         "5"
        ],
        [
         "46",
         "Alva Brunel",
         "1"
        ],
        [
         "47",
         "Alvaro Pascoal",
         "1"
        ],
        [
         "48",
         "Ambrosiae",
         "1"
        ],
        [
         "49",
         "American Authors",
         "3"
        ]
       ],
       "shape": {
        "columns": 2,
        "rows": 1003
       }
      },
      "text/html": [
       "<div>\n",
       "<style scoped>\n",
       "    .dataframe tbody tr th:only-of-type {\n",
       "        vertical-align: middle;\n",
       "    }\n",
       "\n",
       "    .dataframe tbody tr th {\n",
       "        vertical-align: top;\n",
       "    }\n",
       "\n",
       "    .dataframe thead th {\n",
       "        text-align: right;\n",
       "    }\n",
       "</style>\n",
       "<table border=\"1\" class=\"dataframe\">\n",
       "  <thead>\n",
       "    <tr style=\"text-align: right;\">\n",
       "      <th></th>\n",
       "      <th>artistName</th>\n",
       "      <th>0</th>\n",
       "    </tr>\n",
       "  </thead>\n",
       "  <tbody>\n",
       "    <tr>\n",
       "      <th>0</th>\n",
       "      <td>0to8</td>\n",
       "      <td>1</td>\n",
       "    </tr>\n",
       "    <tr>\n",
       "      <th>1</th>\n",
       "      <td>1da Banton</td>\n",
       "      <td>20</td>\n",
       "    </tr>\n",
       "    <tr>\n",
       "      <th>2</th>\n",
       "      <td>21 Savage</td>\n",
       "      <td>1</td>\n",
       "    </tr>\n",
       "    <tr>\n",
       "      <th>3</th>\n",
       "      <td>2KE</td>\n",
       "      <td>1</td>\n",
       "    </tr>\n",
       "    <tr>\n",
       "      <th>4</th>\n",
       "      <td>5 Seconds of Summer</td>\n",
       "      <td>2</td>\n",
       "    </tr>\n",
       "    <tr>\n",
       "      <th>...</th>\n",
       "      <td>...</td>\n",
       "      <td>...</td>\n",
       "    </tr>\n",
       "    <tr>\n",
       "      <th>998</th>\n",
       "      <td>vaultboy</td>\n",
       "      <td>20</td>\n",
       "    </tr>\n",
       "    <tr>\n",
       "      <th>999</th>\n",
       "      <td>will.i.am</td>\n",
       "      <td>1</td>\n",
       "    </tr>\n",
       "    <tr>\n",
       "      <th>1000</th>\n",
       "      <td>Édith Piaf</td>\n",
       "      <td>5</td>\n",
       "    </tr>\n",
       "    <tr>\n",
       "      <th>1001</th>\n",
       "      <td>Öwnboss</td>\n",
       "      <td>1</td>\n",
       "    </tr>\n",
       "    <tr>\n",
       "      <th>1002</th>\n",
       "      <td>Øneheart</td>\n",
       "      <td>1</td>\n",
       "    </tr>\n",
       "  </tbody>\n",
       "</table>\n",
       "<p>1003 rows × 2 columns</p>\n",
       "</div>"
      ],
      "text/plain": [
       "               artistName   0\n",
       "0                    0to8   1\n",
       "1              1da Banton  20\n",
       "2               21 Savage   1\n",
       "3                     2KE   1\n",
       "4     5 Seconds of Summer   2\n",
       "...                   ...  ..\n",
       "998              vaultboy  20\n",
       "999             will.i.am   1\n",
       "1000           Édith Piaf   5\n",
       "1001              Öwnboss   1\n",
       "1002             Øneheart   1\n",
       "\n",
       "[1003 rows x 2 columns]"
      ]
     },
     "execution_count": 34,
     "metadata": {},
     "output_type": "execute_result"
    }
   ],
   "source": [
    "df.groupby(\"artistName\").size().reset_index()"
   ]
  },
  {
   "cell_type": "code",
   "execution_count": 15,
   "id": "b3344823",
   "metadata": {},
   "outputs": [
    {
     "data": {
      "application/vnd.microsoft.datawrangler.viewer.v0+json": {
       "columns": [
        {
         "name": "artistName",
         "rawType": "object",
         "type": "string"
        },
        {
         "name": "count",
         "rawType": "int64",
         "type": "integer"
        }
       ],
       "ref": "aeefafae-0149-4dfe-a567-8088850ec83a",
       "rows": [
        [
         "Haywyre",
         "479"
        ],
        [
         "Grant",
         "474"
        ],
        [
         "ellis",
         "447"
        ],
        [
         "WRLD",
         "335"
        ],
        [
         "Rogue",
         "304"
        ],
        [
         "Fireboy DML",
         "280"
        ],
        [
         "Half an Orange",
         "217"
        ],
        [
         "smle",
         "182"
        ],
        [
         "JVKE",
         "177"
        ],
        [
         "Seven Lions",
         "152"
        ],
        [
         "Ruger",
         "152"
        ],
        [
         "Trivecta",
         "149"
        ],
        [
         "FWLR",
         "140"
        ],
        [
         "Stromae",
         "129"
        ],
        [
         "Aya Nakamura",
         "126"
        ],
        [
         "Kizz Daniel",
         "125"
        ],
        [
         "Hollywood Principle",
         "115"
        ],
        [
         "Wande Coal",
         "111"
        ],
        [
         "Throttle",
         "89"
        ],
        [
         "Benson Boone",
         "89"
        ],
        [
         "Conro",
         "87"
        ],
        [
         "Fairlane",
         "84"
        ],
        [
         "Justin OH",
         "83"
        ],
        [
         "Omah Lay",
         "80"
        ],
        [
         "melvitto",
         "73"
        ],
        [
         "Duumu",
         "68"
        ],
        [
         "Stephen Walking",
         "68"
        ],
        [
         "Ogryzek",
         "65"
        ],
        [
         "CKay",
         "63"
        ],
        [
         "Forrest Frank",
         "59"
        ],
        [
         "inverness",
         "58"
        ],
        [
         "DESERT STAR",
         "58"
        ],
        [
         "Cartoon",
         "57"
        ],
        [
         "Tems",
         "57"
        ],
        [
         "Summer Was Fun",
         "56"
        ],
        [
         "The Night",
         "55"
        ],
        [
         "Jungeli",
         "54"
        ],
        [
         "Tokyo Machine",
         "53"
        ],
        [
         "Ayra Starr",
         "53"
        ],
        [
         "Anevo",
         "48"
        ],
        [
         "Burna Boy",
         "48"
        ],
        [
         "Hoaprox",
         "48"
        ],
        [
         "Athena",
         "44"
        ],
        [
         "LVTHER",
         "43"
        ],
        [
         "Rob Gasser",
         "43"
        ],
        [
         "Zedd",
         "43"
        ],
        [
         "David Guetta",
         "43"
        ],
        [
         "Olamide",
         "41"
        ],
        [
         "Pheelz",
         "39"
        ],
        [
         "Victony",
         "38"
        ]
       ],
       "shape": {
        "columns": 1,
        "rows": 1003
       }
      },
      "text/plain": [
       "artistName\n",
       "Haywyre                   479\n",
       "Grant                     474\n",
       "ellis                     447\n",
       "WRLD                      335\n",
       "Rogue                     304\n",
       "                         ... \n",
       "Adam Port                   1\n",
       "Adam Pearce                 1\n",
       "Adam La Nuit                1\n",
       "A_A_RonHD                   1\n",
       "A Boogie Wit da Hoodie      1\n",
       "Name: count, Length: 1003, dtype: int64"
      ]
     },
     "execution_count": 15,
     "metadata": {},
     "output_type": "execute_result"
    }
   ],
   "source": [
    "df.value_counts(\"artistName\")"
   ]
  },
  {
   "cell_type": "code",
   "execution_count": 83,
   "id": "609f43da",
   "metadata": {},
   "outputs": [
    {
     "data": {
      "application/vnd.microsoft.datawrangler.viewer.v0+json": {
       "columns": [
        {
         "name": "index",
         "rawType": "int64",
         "type": "integer"
        },
        {
         "name": "endTime",
         "rawType": "datetime64[ns]",
         "type": "datetime"
        },
        {
         "name": "artistName",
         "rawType": "object",
         "type": "string"
        },
        {
         "name": "count",
         "rawType": "int64",
         "type": "integer"
        }
       ],
       "ref": "74db248f-87f2-4cd1-ac7f-314bad94f019",
       "rows": [
        [
         "0",
         "2024-06-09 00:00:00",
         "Jungeli",
         "6"
        ],
        [
         "1",
         "2024-06-09 00:00:00",
         "CKay",
         "5"
        ],
        [
         "2",
         "2024-06-09 00:00:00",
         "David Guetta",
         "5"
        ],
        [
         "3",
         "2024-06-09 00:00:00",
         "Stromae",
         "5"
        ],
        [
         "4",
         "2024-06-09 00:00:00",
         "Fireboy DML",
         "4"
        ],
        [
         "5",
         "2024-06-16 00:00:00",
         "JVKE",
         "10"
        ],
        [
         "6",
         "2024-06-16 00:00:00",
         "CKay",
         "8"
        ],
        [
         "7",
         "2024-06-16 00:00:00",
         "Rod Stewart",
         "7"
        ],
        [
         "8",
         "2024-06-16 00:00:00",
         "Benson Boone",
         "6"
        ],
        [
         "9",
         "2024-06-16 00:00:00",
         "Disturbed",
         "6"
        ],
        [
         "10",
         "2024-06-23 00:00:00",
         "Fireboy DML",
         "17"
        ],
        [
         "11",
         "2024-06-23 00:00:00",
         "Kizz Daniel",
         "16"
        ],
        [
         "12",
         "2024-06-23 00:00:00",
         "Burna Boy",
         "10"
        ],
        [
         "13",
         "2024-06-23 00:00:00",
         "CKay",
         "10"
        ],
        [
         "14",
         "2024-06-23 00:00:00",
         "Ayra Starr",
         "7"
        ],
        [
         "15",
         "2024-06-30 00:00:00",
         "Aya Nakamura",
         "20"
        ],
        [
         "16",
         "2024-06-30 00:00:00",
         "Stromae",
         "13"
        ],
        [
         "17",
         "2024-06-30 00:00:00",
         "JVKE",
         "10"
        ],
        [
         "18",
         "2024-06-30 00:00:00",
         "Jungeli",
         "10"
        ],
        [
         "19",
         "2024-06-30 00:00:00",
         "Fireboy DML",
         "9"
        ],
        [
         "20",
         "2024-07-07 00:00:00",
         "Aya Nakamura",
         "60"
        ],
        [
         "21",
         "2024-07-07 00:00:00",
         "Omah Lay",
         "35"
        ],
        [
         "22",
         "2024-07-07 00:00:00",
         "Benson Boone",
         "26"
        ],
        [
         "23",
         "2024-07-07 00:00:00",
         "Burna Boy",
         "26"
        ],
        [
         "24",
         "2024-07-07 00:00:00",
         "Kizz Daniel",
         "23"
        ],
        [
         "25",
         "2024-07-14 00:00:00",
         "Benson Boone",
         "21"
        ],
        [
         "26",
         "2024-07-14 00:00:00",
         "JVKE",
         "17"
        ],
        [
         "27",
         "2024-07-14 00:00:00",
         "Uglyburger0",
         "17"
        ],
        [
         "28",
         "2024-07-14 00:00:00",
         "Rogue",
         "14"
        ],
        [
         "29",
         "2024-07-14 00:00:00",
         "Zach Bryan",
         "14"
        ],
        [
         "30",
         "2024-07-21 00:00:00",
         "Forrest Frank",
         "25"
        ],
        [
         "31",
         "2024-07-21 00:00:00",
         "JVKE",
         "14"
        ],
        [
         "32",
         "2024-07-21 00:00:00",
         "Benson Boone",
         "7"
        ],
        [
         "33",
         "2024-07-21 00:00:00",
         "GRAHAM",
         "7"
        ],
        [
         "34",
         "2024-07-21 00:00:00",
         "Aya Nakamura",
         "6"
        ],
        [
         "35",
         "2024-07-28 00:00:00",
         "JVKE",
         "53"
        ],
        [
         "36",
         "2024-07-28 00:00:00",
         "Pink Sweat$",
         "16"
        ],
        [
         "37",
         "2024-07-28 00:00:00",
         "Devin Kennedy",
         "13"
        ],
        [
         "38",
         "2024-07-28 00:00:00",
         "Tom Frane",
         "13"
        ],
        [
         "39",
         "2024-07-28 00:00:00",
         "Forrest Frank",
         "10"
        ],
        [
         "40",
         "2024-08-04 00:00:00",
         "JVKE",
         "27"
        ],
        [
         "41",
         "2024-08-04 00:00:00",
         "Throttle",
         "14"
        ],
        [
         "42",
         "2024-08-04 00:00:00",
         "Aya Nakamura",
         "10"
        ],
        [
         "43",
         "2024-08-04 00:00:00",
         "Pink Sweat$",
         "10"
        ],
        [
         "44",
         "2024-08-04 00:00:00",
         "Tom Frane",
         "10"
        ],
        [
         "45",
         "2024-08-11 00:00:00",
         "Hollywood Principle",
         "27"
        ],
        [
         "46",
         "2024-08-11 00:00:00",
         "Fireboy DML",
         "21"
        ],
        [
         "47",
         "2024-08-11 00:00:00",
         "Grant",
         "18"
        ],
        [
         "48",
         "2024-08-11 00:00:00",
         "Throttle",
         "11"
        ],
        [
         "49",
         "2024-08-11 00:00:00",
         "Kizz Daniel",
         "9"
        ]
       ],
       "shape": {
        "columns": 3,
        "rows": 265
       }
      },
      "text/html": [
       "<div>\n",
       "<style scoped>\n",
       "    .dataframe tbody tr th:only-of-type {\n",
       "        vertical-align: middle;\n",
       "    }\n",
       "\n",
       "    .dataframe tbody tr th {\n",
       "        vertical-align: top;\n",
       "    }\n",
       "\n",
       "    .dataframe thead th {\n",
       "        text-align: right;\n",
       "    }\n",
       "</style>\n",
       "<table border=\"1\" class=\"dataframe\">\n",
       "  <thead>\n",
       "    <tr style=\"text-align: right;\">\n",
       "      <th></th>\n",
       "      <th>endTime</th>\n",
       "      <th>artistName</th>\n",
       "      <th>count</th>\n",
       "    </tr>\n",
       "  </thead>\n",
       "  <tbody>\n",
       "    <tr>\n",
       "      <th>0</th>\n",
       "      <td>2024-06-09</td>\n",
       "      <td>Jungeli</td>\n",
       "      <td>6</td>\n",
       "    </tr>\n",
       "    <tr>\n",
       "      <th>1</th>\n",
       "      <td>2024-06-09</td>\n",
       "      <td>CKay</td>\n",
       "      <td>5</td>\n",
       "    </tr>\n",
       "    <tr>\n",
       "      <th>2</th>\n",
       "      <td>2024-06-09</td>\n",
       "      <td>David Guetta</td>\n",
       "      <td>5</td>\n",
       "    </tr>\n",
       "    <tr>\n",
       "      <th>3</th>\n",
       "      <td>2024-06-09</td>\n",
       "      <td>Stromae</td>\n",
       "      <td>5</td>\n",
       "    </tr>\n",
       "    <tr>\n",
       "      <th>4</th>\n",
       "      <td>2024-06-09</td>\n",
       "      <td>Fireboy DML</td>\n",
       "      <td>4</td>\n",
       "    </tr>\n",
       "    <tr>\n",
       "      <th>...</th>\n",
       "      <td>...</td>\n",
       "      <td>...</td>\n",
       "      <td>...</td>\n",
       "    </tr>\n",
       "    <tr>\n",
       "      <th>260</th>\n",
       "      <td>2025-06-08</td>\n",
       "      <td>Dmitri Shostakovich</td>\n",
       "      <td>129</td>\n",
       "    </tr>\n",
       "    <tr>\n",
       "      <th>261</th>\n",
       "      <td>2025-06-08</td>\n",
       "      <td>Fairlane</td>\n",
       "      <td>8</td>\n",
       "    </tr>\n",
       "    <tr>\n",
       "      <th>262</th>\n",
       "      <td>2025-06-08</td>\n",
       "      <td>Arlow</td>\n",
       "      <td>7</td>\n",
       "    </tr>\n",
       "    <tr>\n",
       "      <th>263</th>\n",
       "      <td>2025-06-08</td>\n",
       "      <td>Duumu</td>\n",
       "      <td>7</td>\n",
       "    </tr>\n",
       "    <tr>\n",
       "      <th>264</th>\n",
       "      <td>2025-06-08</td>\n",
       "      <td>Syn Cole</td>\n",
       "      <td>7</td>\n",
       "    </tr>\n",
       "  </tbody>\n",
       "</table>\n",
       "<p>265 rows × 3 columns</p>\n",
       "</div>"
      ],
      "text/plain": [
       "       endTime           artistName  count\n",
       "0   2024-06-09              Jungeli      6\n",
       "1   2024-06-09                 CKay      5\n",
       "2   2024-06-09         David Guetta      5\n",
       "3   2024-06-09              Stromae      5\n",
       "4   2024-06-09          Fireboy DML      4\n",
       "..         ...                  ...    ...\n",
       "260 2025-06-08  Dmitri Shostakovich    129\n",
       "261 2025-06-08             Fairlane      8\n",
       "262 2025-06-08                Arlow      7\n",
       "263 2025-06-08                Duumu      7\n",
       "264 2025-06-08             Syn Cole      7\n",
       "\n",
       "[265 rows x 3 columns]"
      ]
     },
     "execution_count": 83,
     "metadata": {},
     "output_type": "execute_result"
    }
   ],
   "source": [
    "value_counts = df_groups_week.value_counts([\"artistName\"])\n",
    "value_counts_head = value_counts.groupby(level=0).head(5)\n",
    "value_counts_head = value_counts_head.reset_index()\n",
    "value_counts_head\n",
    "\n"
   ]
  },
  {
   "cell_type": "code",
   "execution_count": 84,
   "id": "14ad5be9",
   "metadata": {},
   "outputs": [
    {
     "data": {
      "application/vnd.microsoft.datawrangler.viewer.v0+json": {
       "columns": [
        {
         "name": "index",
         "rawType": "int64",
         "type": "integer"
        },
        {
         "name": "endTime",
         "rawType": "datetime64[ns]",
         "type": "datetime"
        },
        {
         "name": "artistName",
         "rawType": "object",
         "type": "string"
        },
        {
         "name": "trackName",
         "rawType": "object",
         "type": "string"
        },
        {
         "name": "count",
         "rawType": "int64",
         "type": "integer"
        }
       ],
       "ref": "b85fcaed-a153-4728-bbc0-1ab6fc63cbd8",
       "rows": [
        [
         "0",
         "2024-06-09 00:00:00",
         "Jungeli",
         "Petit génie",
         "6"
        ],
        [
         "1",
         "2024-06-09 00:00:00",
         "Rogue",
         "Let's Talk",
         "4"
        ],
        [
         "2",
         "2024-06-09 00:00:00",
         "Timaya",
         "Cold Outside",
         "4"
        ],
        [
         "3",
         "2024-06-09 00:00:00",
         "Avicii",
         "The Nights",
         "3"
        ],
        [
         "4",
         "2024-06-09 00:00:00",
         "Benson Boone",
         "Beautiful Things",
         "3"
        ],
        [
         "5",
         "2024-06-16 00:00:00",
         "Disturbed",
         "The Sound of Silence - CYRIL Remix",
         "6"
        ],
        [
         "6",
         "2024-06-16 00:00:00",
         "Jungeli",
         "Petit génie",
         "5"
        ],
        [
         "7",
         "2024-06-16 00:00:00",
         "Mark Ambor",
         "Belong Together",
         "5"
        ],
        [
         "8",
         "2024-06-16 00:00:00",
         "Benson Boone",
         "Beautiful Things",
         "4"
        ],
        [
         "9",
         "2024-06-16 00:00:00",
         "CKay",
         "love nwantiti (feat. ElGrande Toto) - North African Remix",
         "4"
        ],
        [
         "10",
         "2024-06-23 00:00:00",
         "Andrea Romano",
         "Beethoven (Moonlight Sonata) Full",
         "4"
        ],
        [
         "11",
         "2024-06-23 00:00:00",
         "Fireboy DML",
         "Peru",
         "3"
        ],
        [
         "12",
         "2024-06-23 00:00:00",
         "Jungeli",
         "Petit génie",
         "3"
        ],
        [
         "13",
         "2024-06-23 00:00:00",
         "Ludwig van Beethoven",
         "Piano Sonata No. 14 in C-Sharp Minor, Op. 27 No. 2 \"Moonlight Sonata\": I. Adagio sostenuto",
         "3"
        ],
        [
         "14",
         "2024-06-23 00:00:00",
         "Solee",
         "March of the giants",
         "3"
        ],
        [
         "15",
         "2024-06-30 00:00:00",
         "Jungeli",
         "Petit génie",
         "7"
        ],
        [
         "16",
         "2024-06-30 00:00:00",
         "Aya Nakamura",
         "42",
         "6"
        ],
        [
         "17",
         "2024-06-30 00:00:00",
         "Aya Nakamura",
         "Copines",
         "5"
        ],
        [
         "18",
         "2024-06-30 00:00:00",
         "melvitto",
         "Santorini Coffee",
         "5"
        ],
        [
         "19",
         "2024-06-30 00:00:00",
         "Afro B",
         "Drogba (Joanna)",
         "4"
        ],
        [
         "20",
         "2024-07-07 00:00:00",
         "Jungeli",
         "Petit génie",
         "12"
        ],
        [
         "21",
         "2024-07-07 00:00:00",
         "Afro B",
         "Drogba (Joanna)",
         "11"
        ],
        [
         "22",
         "2024-07-07 00:00:00",
         "Benson Boone",
         "Slow It Down",
         "11"
        ],
        [
         "23",
         "2024-07-07 00:00:00",
         "Omah Lay",
         "soso",
         "10"
        ],
        [
         "24",
         "2024-07-07 00:00:00",
         "Aya Nakamura",
         "42",
         "9"
        ],
        [
         "25",
         "2024-07-14 00:00:00",
         "Rogue",
         "Fortress",
         "8"
        ],
        [
         "26",
         "2024-07-14 00:00:00",
         "Benson Boone",
         "Slow It Down",
         "5"
        ],
        [
         "27",
         "2024-07-14 00:00:00",
         "Forrest Frank",
         "NEVER GET USED TO THIS",
         "5"
        ],
        [
         "28",
         "2024-07-14 00:00:00",
         "Rogue",
         "Let's Talk",
         "5"
        ],
        [
         "29",
         "2024-07-14 00:00:00",
         "Conan Gray",
         "People Watching",
         "4"
        ],
        [
         "30",
         "2024-07-21 00:00:00",
         "Forrest Frank",
         "NEVER GET USED TO THIS",
         "9"
        ],
        [
         "31",
         "2024-07-21 00:00:00",
         "Forrest Frank",
         "GOOD DAY",
         "5"
        ],
        [
         "32",
         "2024-07-21 00:00:00",
         "Alicia Keys",
         "You Don't Know My Name",
         "4"
        ],
        [
         "33",
         "2024-07-21 00:00:00",
         "Benson Boone",
         "Slow It Down",
         "4"
        ],
        [
         "34",
         "2024-07-21 00:00:00",
         "Alex Warren",
         "Carry You Home",
         "3"
        ],
        [
         "35",
         "2024-07-28 00:00:00",
         "JVKE",
         "lavender (feat. Pink Sweat$)",
         "7"
        ],
        [
         "36",
         "2024-07-28 00:00:00",
         "LDRR",
         "Mangos - Tiktok Version",
         "5"
        ],
        [
         "37",
         "2024-07-28 00:00:00",
         "Forrest Frank",
         "NEVER GET USED TO THIS (with JVKE)",
         "4"
        ],
        [
         "38",
         "2024-07-28 00:00:00",
         "JVKE",
         "this is what falling in love feels like",
         "4"
        ],
        [
         "39",
         "2024-07-28 00:00:00",
         "Kali Uchis",
         "After The Storm (feat. Tyler, The Creator & Bootsy Collins)",
         "4"
        ],
        [
         "40",
         "2024-08-04 00:00:00",
         "NEFFEX",
         "Losing My Mind",
         "7"
        ],
        [
         "41",
         "2024-08-04 00:00:00",
         "JVKE",
         "lavender (feat. Pink Sweat$)",
         "6"
        ],
        [
         "42",
         "2024-08-04 00:00:00",
         "Kubbi",
         "Up in My Jam (All of a Sudden)",
         "6"
        ],
        [
         "43",
         "2024-08-04 00:00:00",
         "Snakywine",
         "Classy Kitty",
         "6"
        ],
        [
         "44",
         "2024-08-04 00:00:00",
         "Aya Nakamura",
         "Djadja",
         "4"
        ],
        [
         "45",
         "2024-08-11 00:00:00",
         "Hollywood Principle",
         "Solar Eclipses",
         "18"
        ],
        [
         "46",
         "2024-08-11 00:00:00",
         "Fireboy DML",
         "Peru",
         "9"
        ],
        [
         "47",
         "2024-08-11 00:00:00",
         "Grant",
         "Weapon",
         "9"
        ],
        [
         "48",
         "2024-08-11 00:00:00",
         "Conro",
         "Therapy",
         "6"
        ],
        [
         "49",
         "2024-08-11 00:00:00",
         "Throttle",
         "Cities",
         "6"
        ]
       ],
       "shape": {
        "columns": 4,
        "rows": 265
       }
      },
      "text/html": [
       "<div>\n",
       "<style scoped>\n",
       "    .dataframe tbody tr th:only-of-type {\n",
       "        vertical-align: middle;\n",
       "    }\n",
       "\n",
       "    .dataframe tbody tr th {\n",
       "        vertical-align: top;\n",
       "    }\n",
       "\n",
       "    .dataframe thead th {\n",
       "        text-align: right;\n",
       "    }\n",
       "</style>\n",
       "<table border=\"1\" class=\"dataframe\">\n",
       "  <thead>\n",
       "    <tr style=\"text-align: right;\">\n",
       "      <th></th>\n",
       "      <th>endTime</th>\n",
       "      <th>artistName</th>\n",
       "      <th>trackName</th>\n",
       "      <th>count</th>\n",
       "    </tr>\n",
       "  </thead>\n",
       "  <tbody>\n",
       "    <tr>\n",
       "      <th>0</th>\n",
       "      <td>2024-06-09</td>\n",
       "      <td>Jungeli</td>\n",
       "      <td>Petit génie</td>\n",
       "      <td>6</td>\n",
       "    </tr>\n",
       "    <tr>\n",
       "      <th>1</th>\n",
       "      <td>2024-06-09</td>\n",
       "      <td>Rogue</td>\n",
       "      <td>Let's Talk</td>\n",
       "      <td>4</td>\n",
       "    </tr>\n",
       "    <tr>\n",
       "      <th>2</th>\n",
       "      <td>2024-06-09</td>\n",
       "      <td>Timaya</td>\n",
       "      <td>Cold Outside</td>\n",
       "      <td>4</td>\n",
       "    </tr>\n",
       "    <tr>\n",
       "      <th>3</th>\n",
       "      <td>2024-06-09</td>\n",
       "      <td>Avicii</td>\n",
       "      <td>The Nights</td>\n",
       "      <td>3</td>\n",
       "    </tr>\n",
       "    <tr>\n",
       "      <th>4</th>\n",
       "      <td>2024-06-09</td>\n",
       "      <td>Benson Boone</td>\n",
       "      <td>Beautiful Things</td>\n",
       "      <td>3</td>\n",
       "    </tr>\n",
       "    <tr>\n",
       "      <th>...</th>\n",
       "      <td>...</td>\n",
       "      <td>...</td>\n",
       "      <td>...</td>\n",
       "      <td>...</td>\n",
       "    </tr>\n",
       "    <tr>\n",
       "      <th>260</th>\n",
       "      <td>2025-06-08</td>\n",
       "      <td>Dmitri Shostakovich</td>\n",
       "      <td>24 Preludes, Op. 34: No. 9 in E Major. Presto</td>\n",
       "      <td>16</td>\n",
       "    </tr>\n",
       "    <tr>\n",
       "      <th>261</th>\n",
       "      <td>2025-06-08</td>\n",
       "      <td>Dmitri Shostakovich</td>\n",
       "      <td>24 Preludes, Op. 34: No. 15 in D-Flat Major. A...</td>\n",
       "      <td>14</td>\n",
       "    </tr>\n",
       "    <tr>\n",
       "      <th>262</th>\n",
       "      <td>2025-06-08</td>\n",
       "      <td>Dmitri Shostakovich</td>\n",
       "      <td>24 Preludes, Op. 34: No. 24 in D Minor. Allegr...</td>\n",
       "      <td>14</td>\n",
       "    </tr>\n",
       "    <tr>\n",
       "      <th>263</th>\n",
       "      <td>2025-06-08</td>\n",
       "      <td>Dmitri Shostakovich</td>\n",
       "      <td>24 Preludes, Op. 34: No. 10 in C-Sharp Minor. ...</td>\n",
       "      <td>10</td>\n",
       "    </tr>\n",
       "    <tr>\n",
       "      <th>264</th>\n",
       "      <td>2025-06-08</td>\n",
       "      <td>Dmitri Shostakovich</td>\n",
       "      <td>24 Preludes, Op. 34: No. 11 in B Major. Allegr...</td>\n",
       "      <td>8</td>\n",
       "    </tr>\n",
       "  </tbody>\n",
       "</table>\n",
       "<p>265 rows × 4 columns</p>\n",
       "</div>"
      ],
      "text/plain": [
       "       endTime           artistName  \\\n",
       "0   2024-06-09              Jungeli   \n",
       "1   2024-06-09                Rogue   \n",
       "2   2024-06-09               Timaya   \n",
       "3   2024-06-09               Avicii   \n",
       "4   2024-06-09         Benson Boone   \n",
       "..         ...                  ...   \n",
       "260 2025-06-08  Dmitri Shostakovich   \n",
       "261 2025-06-08  Dmitri Shostakovich   \n",
       "262 2025-06-08  Dmitri Shostakovich   \n",
       "263 2025-06-08  Dmitri Shostakovich   \n",
       "264 2025-06-08  Dmitri Shostakovich   \n",
       "\n",
       "                                             trackName  count  \n",
       "0                                          Petit génie      6  \n",
       "1                                           Let's Talk      4  \n",
       "2                                         Cold Outside      4  \n",
       "3                                           The Nights      3  \n",
       "4                                     Beautiful Things      3  \n",
       "..                                                 ...    ...  \n",
       "260      24 Preludes, Op. 34: No. 9 in E Major. Presto     16  \n",
       "261  24 Preludes, Op. 34: No. 15 in D-Flat Major. A...     14  \n",
       "262  24 Preludes, Op. 34: No. 24 in D Minor. Allegr...     14  \n",
       "263  24 Preludes, Op. 34: No. 10 in C-Sharp Minor. ...     10  \n",
       "264  24 Preludes, Op. 34: No. 11 in B Major. Allegr...      8  \n",
       "\n",
       "[265 rows x 4 columns]"
      ]
     },
     "execution_count": 84,
     "metadata": {},
     "output_type": "execute_result"
    }
   ],
   "source": [
    "value_counts_track = df_groups_week.value_counts([\"artistName\",\"trackName\"])\n",
    "value_counts_track_head = value_counts_track.groupby(level=0).head(5)\n",
    "value_counts_track_head = value_counts_track_head.reset_index()\n",
    "value_counts_track_head"
   ]
  },
  {
   "cell_type": "code",
   "execution_count": 85,
   "id": "8d0a1db3",
   "metadata": {},
   "outputs": [],
   "source": [
    "value_counts_head.to_csv(\"group_counts_artist.csv\", index=False)\n",
    "value_counts_track_head.to_csv(\"group_counts_track.csv\", index=False)\n"
   ]
  },
  {
   "cell_type": "code",
   "execution_count": 66,
   "id": "54c849a3",
   "metadata": {},
   "outputs": [
    {
     "data": {
      "application/vnd.microsoft.datawrangler.viewer.v0+json": {
       "columns": [
        {
         "name": "index",
         "rawType": "int64",
         "type": "integer"
        },
        {
         "name": "endTime",
         "rawType": "datetime64[s]",
         "type": "unknown"
        },
        {
         "name": "artistName",
         "rawType": "object",
         "type": "string"
        },
        {
         "name": "count",
         "rawType": "int64",
         "type": "integer"
        }
       ],
       "ref": "d03d365b-8dd0-4da9-8059-8daf24ed442e",
       "rows": [
        [
         "0",
         "2024-06-09 00:00:00",
         "Jungeli",
         "6"
        ],
        [
         "1",
         "2024-06-09 00:00:00",
         "CKay",
         "5"
        ],
        [
         "2",
         "2024-06-09 00:00:00",
         "David Guetta",
         "5"
        ],
        [
         "3",
         "2024-06-09 00:00:00",
         "Stromae",
         "5"
        ],
        [
         "4",
         "2024-06-09 00:00:00",
         "Fireboy DML",
         "4"
        ],
        [
         "5",
         "2024-06-16 00:00:00",
         "JVKE",
         "10"
        ],
        [
         "6",
         "2024-06-16 00:00:00",
         "CKay",
         "8"
        ],
        [
         "7",
         "2024-06-16 00:00:00",
         "Rod Stewart",
         "7"
        ],
        [
         "8",
         "2024-06-16 00:00:00",
         "Benson Boone",
         "6"
        ],
        [
         "9",
         "2024-06-16 00:00:00",
         "Disturbed",
         "6"
        ],
        [
         "10",
         "2024-06-23 00:00:00",
         "Fireboy DML",
         "17"
        ],
        [
         "11",
         "2024-06-23 00:00:00",
         "Kizz Daniel",
         "16"
        ],
        [
         "12",
         "2024-06-23 00:00:00",
         "Burna Boy",
         "10"
        ],
        [
         "13",
         "2024-06-23 00:00:00",
         "CKay",
         "10"
        ],
        [
         "14",
         "2024-06-23 00:00:00",
         "Ayra Starr",
         "7"
        ],
        [
         "15",
         "2024-06-30 00:00:00",
         "Aya Nakamura",
         "20"
        ],
        [
         "16",
         "2024-06-30 00:00:00",
         "Stromae",
         "13"
        ],
        [
         "17",
         "2024-06-30 00:00:00",
         "JVKE",
         "10"
        ],
        [
         "18",
         "2024-06-30 00:00:00",
         "Jungeli",
         "10"
        ],
        [
         "19",
         "2024-06-30 00:00:00",
         "Fireboy DML",
         "9"
        ],
        [
         "20",
         "2024-07-07 00:00:00",
         "Aya Nakamura",
         "60"
        ],
        [
         "21",
         "2024-07-07 00:00:00",
         "Omah Lay",
         "35"
        ],
        [
         "22",
         "2024-07-07 00:00:00",
         "Benson Boone",
         "26"
        ],
        [
         "23",
         "2024-07-07 00:00:00",
         "Burna Boy",
         "26"
        ],
        [
         "24",
         "2024-07-07 00:00:00",
         "Kizz Daniel",
         "23"
        ],
        [
         "25",
         "2024-07-14 00:00:00",
         "Benson Boone",
         "21"
        ],
        [
         "26",
         "2024-07-14 00:00:00",
         "JVKE",
         "17"
        ],
        [
         "27",
         "2024-07-14 00:00:00",
         "Uglyburger0",
         "17"
        ],
        [
         "28",
         "2024-07-14 00:00:00",
         "Rogue",
         "14"
        ],
        [
         "29",
         "2024-07-14 00:00:00",
         "Zach Bryan",
         "14"
        ],
        [
         "30",
         "2024-07-21 00:00:00",
         "Forrest Frank",
         "25"
        ],
        [
         "31",
         "2024-07-21 00:00:00",
         "JVKE",
         "14"
        ],
        [
         "32",
         "2024-07-21 00:00:00",
         "Benson Boone",
         "7"
        ],
        [
         "33",
         "2024-07-21 00:00:00",
         "GRAHAM",
         "7"
        ],
        [
         "34",
         "2024-07-21 00:00:00",
         "Aya Nakamura",
         "6"
        ],
        [
         "35",
         "2024-07-28 00:00:00",
         "JVKE",
         "53"
        ],
        [
         "36",
         "2024-07-28 00:00:00",
         "Pink Sweat$",
         "16"
        ],
        [
         "37",
         "2024-07-28 00:00:00",
         "Devin Kennedy",
         "13"
        ],
        [
         "38",
         "2024-07-28 00:00:00",
         "Tom Frane",
         "13"
        ],
        [
         "39",
         "2024-07-28 00:00:00",
         "Forrest Frank",
         "10"
        ],
        [
         "40",
         "2024-08-04 00:00:00",
         "JVKE",
         "27"
        ],
        [
         "41",
         "2024-08-04 00:00:00",
         "Throttle",
         "14"
        ],
        [
         "42",
         "2024-08-04 00:00:00",
         "Aya Nakamura",
         "10"
        ],
        [
         "43",
         "2024-08-04 00:00:00",
         "Pink Sweat$",
         "10"
        ],
        [
         "44",
         "2024-08-04 00:00:00",
         "Tom Frane",
         "10"
        ],
        [
         "45",
         "2024-08-11 00:00:00",
         "Hollywood Principle",
         "27"
        ],
        [
         "46",
         "2024-08-11 00:00:00",
         "Fireboy DML",
         "21"
        ],
        [
         "47",
         "2024-08-11 00:00:00",
         "Grant",
         "18"
        ],
        [
         "48",
         "2024-08-11 00:00:00",
         "Throttle",
         "11"
        ],
        [
         "49",
         "2024-08-11 00:00:00",
         "Kizz Daniel",
         "9"
        ]
       ],
       "shape": {
        "columns": 3,
        "rows": 165
       }
      },
      "text/html": [
       "<div>\n",
       "<style scoped>\n",
       "    .dataframe tbody tr th:only-of-type {\n",
       "        vertical-align: middle;\n",
       "    }\n",
       "\n",
       "    .dataframe tbody tr th {\n",
       "        vertical-align: top;\n",
       "    }\n",
       "\n",
       "    .dataframe thead th {\n",
       "        text-align: right;\n",
       "    }\n",
       "</style>\n",
       "<table border=\"1\" class=\"dataframe\">\n",
       "  <thead>\n",
       "    <tr style=\"text-align: right;\">\n",
       "      <th></th>\n",
       "      <th>endTime</th>\n",
       "      <th>artistName</th>\n",
       "      <th>count</th>\n",
       "    </tr>\n",
       "  </thead>\n",
       "  <tbody>\n",
       "    <tr>\n",
       "      <th>0</th>\n",
       "      <td>2024-06-09</td>\n",
       "      <td>Jungeli</td>\n",
       "      <td>6</td>\n",
       "    </tr>\n",
       "    <tr>\n",
       "      <th>1</th>\n",
       "      <td>2024-06-09</td>\n",
       "      <td>CKay</td>\n",
       "      <td>5</td>\n",
       "    </tr>\n",
       "    <tr>\n",
       "      <th>2</th>\n",
       "      <td>2024-06-09</td>\n",
       "      <td>David Guetta</td>\n",
       "      <td>5</td>\n",
       "    </tr>\n",
       "    <tr>\n",
       "      <th>3</th>\n",
       "      <td>2024-06-09</td>\n",
       "      <td>Stromae</td>\n",
       "      <td>5</td>\n",
       "    </tr>\n",
       "    <tr>\n",
       "      <th>4</th>\n",
       "      <td>2024-06-09</td>\n",
       "      <td>Fireboy DML</td>\n",
       "      <td>4</td>\n",
       "    </tr>\n",
       "    <tr>\n",
       "      <th>...</th>\n",
       "      <td>...</td>\n",
       "      <td>...</td>\n",
       "      <td>...</td>\n",
       "    </tr>\n",
       "    <tr>\n",
       "      <th>160</th>\n",
       "      <td>2025-01-19</td>\n",
       "      <td>ellis</td>\n",
       "      <td>5</td>\n",
       "    </tr>\n",
       "    <tr>\n",
       "      <th>161</th>\n",
       "      <td>2025-01-19</td>\n",
       "      <td>Haywyre</td>\n",
       "      <td>3</td>\n",
       "    </tr>\n",
       "    <tr>\n",
       "      <th>162</th>\n",
       "      <td>2025-01-19</td>\n",
       "      <td>Anevo</td>\n",
       "      <td>2</td>\n",
       "    </tr>\n",
       "    <tr>\n",
       "      <th>163</th>\n",
       "      <td>2025-01-19</td>\n",
       "      <td>Conro</td>\n",
       "      <td>2</td>\n",
       "    </tr>\n",
       "    <tr>\n",
       "      <th>164</th>\n",
       "      <td>2025-01-19</td>\n",
       "      <td>WRLD</td>\n",
       "      <td>2</td>\n",
       "    </tr>\n",
       "  </tbody>\n",
       "</table>\n",
       "<p>165 rows × 3 columns</p>\n",
       "</div>"
      ],
      "text/plain": [
       "       endTime    artistName  count\n",
       "0   2024-06-09       Jungeli      6\n",
       "1   2024-06-09          CKay      5\n",
       "2   2024-06-09  David Guetta      5\n",
       "3   2024-06-09       Stromae      5\n",
       "4   2024-06-09   Fireboy DML      4\n",
       "..         ...           ...    ...\n",
       "160 2025-01-19         ellis      5\n",
       "161 2025-01-19       Haywyre      3\n",
       "162 2025-01-19         Anevo      2\n",
       "163 2025-01-19         Conro      2\n",
       "164 2025-01-19          WRLD      2\n",
       "\n",
       "[165 rows x 3 columns]"
      ]
     },
     "execution_count": 66,
     "metadata": {},
     "output_type": "execute_result"
    }
   ],
   "source": [
    "value_counts_head"
   ]
  },
  {
   "cell_type": "code",
   "execution_count": 44,
   "id": "6c96ea51",
   "metadata": {},
   "outputs": [
    {
     "data": {
      "text/plain": [
       "pandas.core.series.Series"
      ]
     },
     "execution_count": 44,
     "metadata": {},
     "output_type": "execute_result"
    }
   ],
   "source": [
    "type(value_counts)"
   ]
  },
  {
   "cell_type": "code",
   "execution_count": 35,
   "id": "f10c9aef",
   "metadata": {},
   "outputs": [
    {
     "data": {
      "application/vnd.microsoft.datawrangler.viewer.v0+json": {
       "columns": [
        {
         "name": "('endTime', 'artistName')",
         "rawType": "object",
         "type": "unknown"
        },
        {
         "name": "count",
         "rawType": "int64",
         "type": "integer"
        }
       ],
       "ref": "28987a21-ff7c-46a5-b066-cdcbd652fd1d",
       "rows": [
        [
         "(Timestamp('2024-06-09 00:00:00'), 'Jungeli')",
         "6"
        ],
        [
         "(Timestamp('2024-06-09 00:00:00'), 'CKay')",
         "5"
        ],
        [
         "(Timestamp('2024-06-09 00:00:00'), 'David Guetta')",
         "5"
        ],
        [
         "(Timestamp('2024-06-09 00:00:00'), 'Stromae')",
         "5"
        ],
        [
         "(Timestamp('2024-06-09 00:00:00'), 'Fireboy DML')",
         "4"
        ],
        [
         "(Timestamp('2024-06-09 00:00:00'), 'Nora En Pure')",
         "4"
        ],
        [
         "(Timestamp('2024-06-09 00:00:00'), 'Rogue')",
         "4"
        ],
        [
         "(Timestamp('2024-06-09 00:00:00'), 'Timaya')",
         "4"
        ],
        [
         "(Timestamp('2024-06-09 00:00:00'), 'Avicii')",
         "3"
        ],
        [
         "(Timestamp('2024-06-09 00:00:00'), 'Benson Boone')",
         "3"
        ],
        [
         "(Timestamp('2024-06-09 00:00:00'), 'Harry Styles')",
         "3"
        ],
        [
         "(Timestamp('2024-06-09 00:00:00'), 'JVKE')",
         "3"
        ],
        [
         "(Timestamp('2024-06-09 00:00:00'), 'Kygo')",
         "3"
        ],
        [
         "(Timestamp('2024-06-09 00:00:00'), 'Lil Nas X')",
         "3"
        ],
        [
         "(Timestamp('2024-06-09 00:00:00'), 'Majestic')",
         "3"
        ],
        [
         "(Timestamp('2024-06-09 00:00:00'), 'PSY')",
         "3"
        ],
        [
         "(Timestamp('2024-06-09 00:00:00'), 'Rema')",
         "3"
        ],
        [
         "(Timestamp('2024-06-09 00:00:00'), 'Tonic Walter')",
         "3"
        ],
        [
         "(Timestamp('2024-06-09 00:00:00'), 'A$AP Rocky')",
         "2"
        ],
        [
         "(Timestamp('2024-06-09 00:00:00'), 'Aya Nakamura')",
         "2"
        ],
        [
         "(Timestamp('2024-06-09 00:00:00'), 'Ayra Starr')",
         "2"
        ],
        [
         "(Timestamp('2024-06-09 00:00:00'), 'BABYMETAL')",
         "2"
        ],
        [
         "(Timestamp('2024-06-09 00:00:00'), 'Ben Böhmer')",
         "2"
        ],
        [
         "(Timestamp('2024-06-09 00:00:00'), 'Billie Eilish')",
         "2"
        ],
        [
         "(Timestamp('2024-06-09 00:00:00'), 'Coi Leray')",
         "2"
        ],
        [
         "(Timestamp('2024-06-09 00:00:00'), 'Crazy Frog')",
         "2"
        ],
        [
         "(Timestamp('2024-06-09 00:00:00'), 'Definition')",
         "2"
        ],
        [
         "(Timestamp('2024-06-09 00:00:00'), 'Emei')",
         "2"
        ],
        [
         "(Timestamp('2024-06-09 00:00:00'), 'Gabry Ponte')",
         "2"
        ],
        [
         "(Timestamp('2024-06-09 00:00:00'), 'Ice Prince')",
         "2"
        ],
        [
         "(Timestamp('2024-06-09 00:00:00'), 'Imanbek')",
         "2"
        ],
        [
         "(Timestamp('2024-06-09 00:00:00'), 'Kanye West')",
         "2"
        ],
        [
         "(Timestamp('2024-06-09 00:00:00'), 'Kizz Daniel')",
         "2"
        ],
        [
         "(Timestamp('2024-06-09 00:00:00'), 'Lipless')",
         "2"
        ],
        [
         "(Timestamp('2024-06-09 00:00:00'), 'Nathan Dawe')",
         "2"
        ],
        [
         "(Timestamp('2024-06-09 00:00:00'), 'Nathan Evans')",
         "2"
        ],
        [
         "(Timestamp('2024-06-09 00:00:00'), 'Olamide')",
         "2"
        ],
        [
         "(Timestamp('2024-06-09 00:00:00'), 'Richy Mitch & The Coal Miners')",
         "2"
        ],
        [
         "(Timestamp('2024-06-09 00:00:00'), 'Rihanna')",
         "2"
        ],
        [
         "(Timestamp('2024-06-09 00:00:00'), 'Romain Garcia')",
         "2"
        ],
        [
         "(Timestamp('2024-06-09 00:00:00'), 'SZA')",
         "2"
        ],
        [
         "(Timestamp('2024-06-09 00:00:00'), 'Sainte Vie')",
         "2"
        ],
        [
         "(Timestamp('2024-06-09 00:00:00'), 'Stereoclip')",
         "2"
        ],
        [
         "(Timestamp('2024-06-09 00:00:00'), 'Sultan + Shepard')",
         "2"
        ],
        [
         "(Timestamp('2024-06-09 00:00:00'), 'Taron Egerton')",
         "2"
        ],
        [
         "(Timestamp('2024-06-09 00:00:00'), 'The Depreciation Guild')",
         "2"
        ],
        [
         "(Timestamp('2024-06-09 00:00:00'), 'Tinlicker')",
         "2"
        ],
        [
         "(Timestamp('2024-06-09 00:00:00'), 'Tom Odell')",
         "2"
        ],
        [
         "(Timestamp('2024-06-09 00:00:00'), 'Adriatique')",
         "1"
        ],
        [
         "(Timestamp('2024-06-09 00:00:00'), 'Afro B')",
         "1"
        ]
       ],
       "shape": {
        "columns": 1,
        "rows": 2911
       }
      },
      "text/plain": [
       "endTime     artistName    \n",
       "2024-06-09  Jungeli           6\n",
       "            CKay              5\n",
       "            David Guetta      5\n",
       "            Stromae           5\n",
       "            Fireboy DML       4\n",
       "                             ..\n",
       "2025-01-19  Summer Was Fun    1\n",
       "            Tails             1\n",
       "            Time To Talk      1\n",
       "            Zedd              1\n",
       "            soupandreas       1\n",
       "Name: count, Length: 2911, dtype: int64"
      ]
     },
     "execution_count": 35,
     "metadata": {},
     "output_type": "execute_result"
    }
   ],
   "source": [
    "value_counts"
   ]
  },
  {
   "cell_type": "code",
   "execution_count": 52,
   "id": "4b488fc7",
   "metadata": {},
   "outputs": [],
   "source": [
    "df = pd.DataFrame({\"A\": [1, 2, 3], \"B\": [4, 5, 6]})"
   ]
  },
  {
   "cell_type": "code",
   "execution_count": null,
   "id": "8bd0a290",
   "metadata": {},
   "outputs": [],
   "source": [
    "df.reset_index()"
   ]
  },
  {
   "cell_type": "code",
   "execution_count": 21,
   "id": "496dc293",
   "metadata": {},
   "outputs": [
    {
     "data": {
      "application/vnd.microsoft.datawrangler.viewer.v0+json": {
       "columns": [
        {
         "name": "endTime",
         "rawType": "datetime64[s]",
         "type": "unknown"
        },
        {
         "name": "count",
         "rawType": "int64",
         "type": "integer"
        }
       ],
       "ref": "5bbcb724-2965-4060-9472-96aa97f5e3ce",
       "rows": [
        [
         "2024-06-09 00:00:00",
         "213"
        ],
        [
         "2024-06-16 00:00:00",
         "326"
        ],
        [
         "2024-06-23 00:00:00",
         "225"
        ],
        [
         "2024-06-30 00:00:00",
         "347"
        ],
        [
         "2024-07-07 00:00:00",
         "953"
        ],
        [
         "2024-07-14 00:00:00",
         "389"
        ],
        [
         "2024-07-21 00:00:00",
         "206"
        ],
        [
         "2024-07-28 00:00:00",
         "316"
        ],
        [
         "2024-08-04 00:00:00",
         "318"
        ],
        [
         "2024-08-11 00:00:00",
         "283"
        ],
        [
         "2024-08-18 00:00:00",
         "181"
        ],
        [
         "2024-08-25 00:00:00",
         "91"
        ],
        [
         "2024-09-01 00:00:00",
         "281"
        ],
        [
         "2024-09-08 00:00:00",
         "252"
        ],
        [
         "2024-09-15 00:00:00",
         "276"
        ],
        [
         "2024-09-22 00:00:00",
         "378"
        ],
        [
         "2024-09-29 00:00:00",
         "328"
        ],
        [
         "2024-10-06 00:00:00",
         "329"
        ],
        [
         "2024-10-13 00:00:00",
         "230"
        ],
        [
         "2024-10-20 00:00:00",
         "504"
        ],
        [
         "2024-10-27 00:00:00",
         "471"
        ],
        [
         "2024-11-03 00:00:00",
         "176"
        ],
        [
         "2024-11-10 00:00:00",
         "283"
        ],
        [
         "2024-11-17 00:00:00",
         "289"
        ],
        [
         "2024-11-24 00:00:00",
         "300"
        ],
        [
         "2024-12-01 00:00:00",
         "314"
        ],
        [
         "2024-12-08 00:00:00",
         "384"
        ],
        [
         "2024-12-15 00:00:00",
         "293"
        ],
        [
         "2024-12-22 00:00:00",
         "254"
        ],
        [
         "2024-12-29 00:00:00",
         "421"
        ],
        [
         "2025-01-05 00:00:00",
         "229"
        ],
        [
         "2025-01-12 00:00:00",
         "132"
        ],
        [
         "2025-01-19 00:00:00",
         "28"
        ]
       ],
       "shape": {
        "columns": 1,
        "rows": 33
       }
      },
      "text/plain": [
       "endTime\n",
       "2024-06-09    213\n",
       "2024-06-16    326\n",
       "2024-06-23    225\n",
       "2024-06-30    347\n",
       "2024-07-07    953\n",
       "2024-07-14    389\n",
       "2024-07-21    206\n",
       "2024-07-28    316\n",
       "2024-08-04    318\n",
       "2024-08-11    283\n",
       "2024-08-18    181\n",
       "2024-08-25     91\n",
       "2024-09-01    281\n",
       "2024-09-08    252\n",
       "2024-09-15    276\n",
       "2024-09-22    378\n",
       "2024-09-29    328\n",
       "2024-10-06    329\n",
       "2024-10-13    230\n",
       "2024-10-20    504\n",
       "2024-10-27    471\n",
       "2024-11-03    176\n",
       "2024-11-10    283\n",
       "2024-11-17    289\n",
       "2024-11-24    300\n",
       "2024-12-01    314\n",
       "2024-12-08    384\n",
       "2024-12-15    293\n",
       "2024-12-22    254\n",
       "2024-12-29    421\n",
       "2025-01-05    229\n",
       "2025-01-12    132\n",
       "2025-01-19     28\n",
       "Name: count, dtype: int64"
      ]
     },
     "execution_count": 21,
     "metadata": {},
     "output_type": "execute_result"
    }
   ],
   "source": [
    "df_groups_week.value_counts([])"
   ]
  },
  {
   "cell_type": "code",
   "execution_count": 22,
   "id": "92bf7afd",
   "metadata": {},
   "outputs": [
    {
     "data": {
      "application/vnd.microsoft.datawrangler.viewer.v0+json": {
       "columns": [
        {
         "name": "endTime",
         "rawType": "datetime64[s]",
         "type": "unknown"
        },
        {
         "name": "0",
         "rawType": "int64",
         "type": "integer"
        }
       ],
       "ref": "58e839af-a520-49ae-96c3-bdcb34cfdab9",
       "rows": [
        [
         "2024-06-09 00:00:00",
         "213"
        ],
        [
         "2024-06-16 00:00:00",
         "326"
        ],
        [
         "2024-06-23 00:00:00",
         "225"
        ],
        [
         "2024-06-30 00:00:00",
         "347"
        ],
        [
         "2024-07-07 00:00:00",
         "953"
        ],
        [
         "2024-07-14 00:00:00",
         "389"
        ],
        [
         "2024-07-21 00:00:00",
         "206"
        ],
        [
         "2024-07-28 00:00:00",
         "316"
        ],
        [
         "2024-08-04 00:00:00",
         "318"
        ],
        [
         "2024-08-11 00:00:00",
         "283"
        ],
        [
         "2024-08-18 00:00:00",
         "181"
        ],
        [
         "2024-08-25 00:00:00",
         "91"
        ],
        [
         "2024-09-01 00:00:00",
         "281"
        ],
        [
         "2024-09-08 00:00:00",
         "252"
        ],
        [
         "2024-09-15 00:00:00",
         "276"
        ],
        [
         "2024-09-22 00:00:00",
         "378"
        ],
        [
         "2024-09-29 00:00:00",
         "328"
        ],
        [
         "2024-10-06 00:00:00",
         "329"
        ],
        [
         "2024-10-13 00:00:00",
         "230"
        ],
        [
         "2024-10-20 00:00:00",
         "504"
        ],
        [
         "2024-10-27 00:00:00",
         "471"
        ],
        [
         "2024-11-03 00:00:00",
         "176"
        ],
        [
         "2024-11-10 00:00:00",
         "283"
        ],
        [
         "2024-11-17 00:00:00",
         "289"
        ],
        [
         "2024-11-24 00:00:00",
         "300"
        ],
        [
         "2024-12-01 00:00:00",
         "314"
        ],
        [
         "2024-12-08 00:00:00",
         "384"
        ],
        [
         "2024-12-15 00:00:00",
         "293"
        ],
        [
         "2024-12-22 00:00:00",
         "254"
        ],
        [
         "2024-12-29 00:00:00",
         "421"
        ],
        [
         "2025-01-05 00:00:00",
         "229"
        ],
        [
         "2025-01-12 00:00:00",
         "132"
        ],
        [
         "2025-01-19 00:00:00",
         "28"
        ]
       ],
       "shape": {
        "columns": 1,
        "rows": 33
       }
      },
      "text/plain": [
       "endTime\n",
       "2024-06-09    213\n",
       "2024-06-16    326\n",
       "2024-06-23    225\n",
       "2024-06-30    347\n",
       "2024-07-07    953\n",
       "2024-07-14    389\n",
       "2024-07-21    206\n",
       "2024-07-28    316\n",
       "2024-08-04    318\n",
       "2024-08-11    283\n",
       "2024-08-18    181\n",
       "2024-08-25     91\n",
       "2024-09-01    281\n",
       "2024-09-08    252\n",
       "2024-09-15    276\n",
       "2024-09-22    378\n",
       "2024-09-29    328\n",
       "2024-10-06    329\n",
       "2024-10-13    230\n",
       "2024-10-20    504\n",
       "2024-10-27    471\n",
       "2024-11-03    176\n",
       "2024-11-10    283\n",
       "2024-11-17    289\n",
       "2024-11-24    300\n",
       "2024-12-01    314\n",
       "2024-12-08    384\n",
       "2024-12-15    293\n",
       "2024-12-22    254\n",
       "2024-12-29    421\n",
       "2025-01-05    229\n",
       "2025-01-12    132\n",
       "2025-01-19     28\n",
       "Freq: W-SUN, dtype: int64"
      ]
     },
     "execution_count": 22,
     "metadata": {},
     "output_type": "execute_result"
    }
   ],
   "source": [
    "df_groups_week.size()"
   ]
  }
 ],
 "metadata": {
  "kernelspec": {
   "display_name": "Python 3",
   "language": "python",
   "name": "python3"
  },
  "language_info": {
   "codemirror_mode": {
    "name": "ipython",
    "version": 3
   },
   "file_extension": ".py",
   "mimetype": "text/x-python",
   "name": "python",
   "nbconvert_exporter": "python",
   "pygments_lexer": "ipython3",
   "version": "3.13.3"
  }
 },
 "nbformat": 4,
 "nbformat_minor": 5
}
