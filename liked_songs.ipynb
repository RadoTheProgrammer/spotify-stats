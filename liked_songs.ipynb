{
 "cells": [
  {
   "cell_type": "code",
   "execution_count": 38,
   "id": "746ac1ab",
   "metadata": {},
   "outputs": [],
   "source": [
    "import json\n",
    "import pandas as pd\n",
    "import matplotlib.pyplot as plt\n",
    "df_history = pd.read_csv(\"StreamingHistory.csv\", parse_dates=[\"endTime\"])"
   ]
  },
  {
   "cell_type": "code",
   "execution_count": 39,
   "id": "d2aafa91",
   "metadata": {},
   "outputs": [],
   "source": [
    "first_played = df_history.drop_duplicates(['artistName',\"trackName\"], keep='first')"
   ]
  },
  {
   "cell_type": "code",
   "execution_count": 40,
   "id": "f6b619fa",
   "metadata": {},
   "outputs": [],
   "source": [
    "file = r\"my_spotify_data\\Spotify Account Data\\YourLibrary.json\"\n",
    "with open(file,\"rb\") as f:\n",
    "    input_data = json.load(f)"
   ]
  },
  {
   "cell_type": "code",
   "execution_count": 41,
   "id": "56eddf35",
   "metadata": {},
   "outputs": [],
   "source": [
    "data = {\"artistName\": [], \"albumName\":[], \"trackName\": [], \"uri\":[]}\n",
    "for track in input_data[\"tracks\"]:\n",
    "    data[\"artistName\"].append(track[\"artist\"])\n",
    "    data[\"albumName\"].append(track[\"album\"])\n",
    "    data[\"trackName\"].append(track[\"track\"])\n",
    "    data[\"uri\"].append(track[\"uri\"])\n",
    "df_liked_songs = pd.DataFrame(data)\n",
    "df_liked_songs.to_csv(\"liked_songs.csv\", index=False)"
   ]
  },
  {
   "cell_type": "code",
   "execution_count": 42,
   "id": "143517a8",
   "metadata": {},
   "outputs": [],
   "source": [
    "first_played_liked = first_played.merge(df_liked_songs[['artistName', 'trackName']].drop_duplicates(), on=['artistName', 'trackName'], how='inner')"
   ]
  },
  {
   "cell_type": "code",
   "execution_count": 45,
   "id": "3932144e",
   "metadata": {},
   "outputs": [
    {
     "data": {
      "application/vnd.microsoft.datawrangler.viewer.v0+json": {
       "columns": [
        {
         "name": "index",
         "rawType": "int64",
         "type": "integer"
        },
        {
         "name": "endTime",
         "rawType": "datetime64[ns]",
         "type": "datetime"
        },
        {
         "name": "artistName",
         "rawType": "object",
         "type": "string"
        },
        {
         "name": "trackName",
         "rawType": "object",
         "type": "string"
        },
        {
         "name": "timePlayed",
         "rawType": "int64",
         "type": "integer"
        }
       ],
       "ref": "116ec53b-e025-413b-8c87-265a266b520a",
       "rows": [
        [
         "0",
         "2024-06-05 17:23:00",
         "Nora En Pure",
         "Aquatic",
         "39445"
        ],
        [
         "1",
         "2024-06-06 10:35:00",
         "Rogue",
         "Let's Talk",
         "10602"
        ],
        [
         "3",
         "2024-06-06 10:36:00",
         "King Serenity",
         "All for U (Ameyatchi)",
         "13653"
        ],
        [
         "4",
         "2024-06-06 10:38:00",
         "Jungeli",
         "Petit génie",
         "122069"
        ],
        [
         "5",
         "2024-06-06 10:39:00",
         "David Guetta",
         "Don't Leave Me Alone (feat. Anne-Marie)",
         "77525"
        ],
        [
         "6",
         "2024-06-06 11:51:00",
         "Aya Nakamura",
         "Copines",
         "84480"
        ],
        [
         "8",
         "2024-06-06 11:54:00",
         "Rema",
         "Calm Down",
         "107328"
        ],
        [
         "9",
         "2024-06-06 11:58:00",
         "Ed Sheeran",
         "Eyes Closed",
         "194848"
        ],
        [
         "10",
         "2024-06-06 11:59:00",
         "Billie Eilish",
         "hotline (edit)",
         "5065"
        ],
        [
         "11",
         "2024-06-06 11:59:00",
         "Richy Mitch & The Coal Miners",
         "Evergreen",
         "87000"
        ],
        [
         "12",
         "2024-06-06 13:21:00",
         "Eminem",
         "Houdini",
         "92827"
        ],
        [
         "13",
         "2024-06-06 13:21:00",
         "George Ezra",
         "Budapest",
         "540"
        ],
        [
         "14",
         "2024-06-06 13:22:00",
         "Timaya",
         "Cold Outside",
         "3818"
        ],
        [
         "16",
         "2024-06-06 13:27:00",
         "CKay",
         "emiliana",
         "166642"
        ],
        [
         "17",
         "2024-06-06 13:30:00",
         "Harry Styles",
         "Watermelon Sugar",
         "4202"
        ],
        [
         "18",
         "2024-06-06 13:30:00",
         "Tinlicker",
         "Because You Move Me",
         "144679"
        ],
        [
         "19",
         "2024-06-06 13:34:00",
         "Billie Eilish",
         "What Was I Made For? [From The Motion Picture \"Barbie\"]",
         "222369"
        ],
        [
         "20",
         "2024-06-06 13:36:00",
         "Tyler Shaw",
         "Love You Still (abcdefu romantic version)",
         "150173"
        ],
        [
         "21",
         "2024-06-06 13:38:00",
         "CKay",
         "love nwantiti (feat. ElGrande Toto) - North African Remix",
         "135480"
        ],
        [
         "22",
         "2024-06-06 13:42:00",
         "Jason Mraz",
         "I'm Yours",
         "242946"
        ],
        [
         "23",
         "2024-06-06 13:46:00",
         "JVKE",
         "this is what winter feels like",
         "194782"
        ],
        [
         "24",
         "2024-06-06 13:49:00",
         "Fools Garden",
         "Lemon Tree",
         "191026"
        ],
        [
         "25",
         "2024-06-06 13:52:00",
         "Trinix",
         "She Said (Big Jet Plane)",
         "173750"
        ],
        [
         "26",
         "2024-06-06 13:53:00",
         "Martin Arteta",
         "Past Lives",
         "76178"
        ],
        [
         "27",
         "2024-06-06 13:56:00",
         "Pheelz",
         "Finesse",
         "155293"
        ],
        [
         "28",
         "2024-06-06 13:59:00",
         "Kizz Daniel",
         "Nesesari",
         "178000"
        ],
        [
         "30",
         "2024-06-06 17:42:00",
         "Fireboy DML",
         "Bandana",
         "6624"
        ],
        [
         "33",
         "2024-06-06 20:34:00",
         "JVKE",
         "golden hour",
         "0"
        ],
        [
         "34",
         "2024-06-06 20:34:00",
         "Definition",
         "Trojan Love - Original Club Mix",
         "241"
        ],
        [
         "35",
         "2024-06-06 20:34:00",
         "Kygo",
         "Without You (with HAYLA)",
         "164"
        ],
        [
         "38",
         "2024-06-06 20:36:00",
         "Harry Styles",
         "As It Was",
         "0"
        ],
        [
         "42",
         "2024-06-06 20:42:00",
         "Clean Bandit",
         "Symphony (feat. Zara Larsson)",
         "8768"
        ],
        [
         "43",
         "2024-06-06 20:42:00",
         "Benson Boone",
         "Beautiful Things",
         "1258"
        ],
        [
         "44",
         "2024-06-06 20:42:00",
         "Crazy Frog",
         "Popcorn",
         "159473"
        ],
        [
         "46",
         "2024-06-06 20:43:00",
         "Majestic",
         "Rasputin",
         "44138"
        ],
        [
         "48",
         "2024-06-06 20:47:00",
         "Imanbek",
         "Belly Dancer",
         "53051"
        ],
        [
         "50",
         "2024-06-06 21:08:00",
         "PSY",
         "Gangnam Style (강남스타일)",
         "1553"
        ],
        [
         "52",
         "2024-06-06 21:10:00",
         "Gabry Ponte",
         "Thunder",
         "106346"
        ],
        [
         "53",
         "2024-06-06 21:13:00",
         "Nathan Evans",
         "Wellerman - Sea Shanty",
         "156160"
        ],
        [
         "54",
         "2024-06-06 21:16:00",
         "Taron Egerton",
         "A Sky Full of Stars",
         "206437"
        ],
        [
         "55",
         "2024-06-06 21:19:00",
         "Nathan Dawe",
         "21 Reasons (feat. Ella Henderson)",
         "155253"
        ],
        [
         "56",
         "2024-06-06 21:22:00",
         "Daddy Yankee",
         "Gasolina",
         "192600"
        ],
        [
         "57",
         "2024-06-06 21:25:00",
         "K'NAAN",
         "Wavin' Flag - Coca-Cola® Celebration Mix",
         "178684"
        ],
        [
         "58",
         "2024-06-06 21:28:00",
         "Riton",
         "Friday (feat. Mufasa & Hypeman) - Dopamine Re-Edit",
         "169153"
        ],
        [
         "59",
         "2024-06-06 21:31:00",
         "Jawsh 685",
         "Savage Love (Laxed - Siren Beat)",
         "171374"
        ],
        [
         "60",
         "2024-06-06 21:33:00",
         "Fly Project",
         "Toca Toca",
         "165605"
        ],
        [
         "61",
         "2024-06-06 21:37:00",
         "Carly Rae Jepsen",
         "Call Me Maybe",
         "193400"
        ],
        [
         "62",
         "2024-06-06 21:52:00",
         "Tones And I",
         "Dance Monkey",
         "155756"
        ],
        [
         "63",
         "2024-06-06 21:56:00",
         "American Authors",
         "Best Day Of My Life",
         "194240"
        ],
        [
         "64",
         "2024-06-06 22:00:00",
         "Bob Sinclar",
         "Rock This Party (Everybody Dance Now)",
         "245466"
        ]
       ],
       "shape": {
        "columns": 4,
        "rows": 2580
       }
      },
      "text/html": [
       "<div>\n",
       "<style scoped>\n",
       "    .dataframe tbody tr th:only-of-type {\n",
       "        vertical-align: middle;\n",
       "    }\n",
       "\n",
       "    .dataframe tbody tr th {\n",
       "        vertical-align: top;\n",
       "    }\n",
       "\n",
       "    .dataframe thead th {\n",
       "        text-align: right;\n",
       "    }\n",
       "</style>\n",
       "<table border=\"1\" class=\"dataframe\">\n",
       "  <thead>\n",
       "    <tr style=\"text-align: right;\">\n",
       "      <th></th>\n",
       "      <th>endTime</th>\n",
       "      <th>artistName</th>\n",
       "      <th>trackName</th>\n",
       "      <th>timePlayed</th>\n",
       "    </tr>\n",
       "  </thead>\n",
       "  <tbody>\n",
       "    <tr>\n",
       "      <th>0</th>\n",
       "      <td>2024-06-05 17:23:00</td>\n",
       "      <td>Nora En Pure</td>\n",
       "      <td>Aquatic</td>\n",
       "      <td>39445</td>\n",
       "    </tr>\n",
       "    <tr>\n",
       "      <th>1</th>\n",
       "      <td>2024-06-06 10:35:00</td>\n",
       "      <td>Rogue</td>\n",
       "      <td>Let's Talk</td>\n",
       "      <td>10602</td>\n",
       "    </tr>\n",
       "    <tr>\n",
       "      <th>3</th>\n",
       "      <td>2024-06-06 10:36:00</td>\n",
       "      <td>King Serenity</td>\n",
       "      <td>All for U (Ameyatchi)</td>\n",
       "      <td>13653</td>\n",
       "    </tr>\n",
       "    <tr>\n",
       "      <th>4</th>\n",
       "      <td>2024-06-06 10:38:00</td>\n",
       "      <td>Jungeli</td>\n",
       "      <td>Petit génie</td>\n",
       "      <td>122069</td>\n",
       "    </tr>\n",
       "    <tr>\n",
       "      <th>5</th>\n",
       "      <td>2024-06-06 10:39:00</td>\n",
       "      <td>David Guetta</td>\n",
       "      <td>Don't Leave Me Alone (feat. Anne-Marie)</td>\n",
       "      <td>77525</td>\n",
       "    </tr>\n",
       "    <tr>\n",
       "      <th>...</th>\n",
       "      <td>...</td>\n",
       "      <td>...</td>\n",
       "      <td>...</td>\n",
       "      <td>...</td>\n",
       "    </tr>\n",
       "    <tr>\n",
       "      <th>13651</th>\n",
       "      <td>2025-06-05 17:42:00</td>\n",
       "      <td>KEPIK</td>\n",
       "      <td>Prism Heart</td>\n",
       "      <td>16542</td>\n",
       "    </tr>\n",
       "    <tr>\n",
       "      <th>13652</th>\n",
       "      <td>2025-06-05 17:42:00</td>\n",
       "      <td>Terry Zhong</td>\n",
       "      <td>Home Alright</td>\n",
       "      <td>1625</td>\n",
       "    </tr>\n",
       "    <tr>\n",
       "      <th>13656</th>\n",
       "      <td>2025-06-05 17:53:00</td>\n",
       "      <td>David Guetta</td>\n",
       "      <td>Beautiful People</td>\n",
       "      <td>118562</td>\n",
       "    </tr>\n",
       "    <tr>\n",
       "      <th>13671</th>\n",
       "      <td>2025-06-05 19:10:00</td>\n",
       "      <td>Near x Far</td>\n",
       "      <td>Not Enough</td>\n",
       "      <td>220572</td>\n",
       "    </tr>\n",
       "    <tr>\n",
       "      <th>13672</th>\n",
       "      <td>2025-06-06 04:48:00</td>\n",
       "      <td>Dalic</td>\n",
       "      <td>Lullaby</td>\n",
       "      <td>10358</td>\n",
       "    </tr>\n",
       "  </tbody>\n",
       "</table>\n",
       "<p>2580 rows × 4 columns</p>\n",
       "</div>"
      ],
      "text/plain": [
       "                  endTime     artistName  \\\n",
       "0     2024-06-05 17:23:00   Nora En Pure   \n",
       "1     2024-06-06 10:35:00          Rogue   \n",
       "3     2024-06-06 10:36:00  King Serenity   \n",
       "4     2024-06-06 10:38:00        Jungeli   \n",
       "5     2024-06-06 10:39:00   David Guetta   \n",
       "...                   ...            ...   \n",
       "13651 2025-06-05 17:42:00          KEPIK   \n",
       "13652 2025-06-05 17:42:00    Terry Zhong   \n",
       "13656 2025-06-05 17:53:00   David Guetta   \n",
       "13671 2025-06-05 19:10:00     Near x Far   \n",
       "13672 2025-06-06 04:48:00          Dalic   \n",
       "\n",
       "                                     trackName  timePlayed  \n",
       "0                                      Aquatic       39445  \n",
       "1                                   Let's Talk       10602  \n",
       "3                        All for U (Ameyatchi)       13653  \n",
       "4                                  Petit génie      122069  \n",
       "5      Don't Leave Me Alone (feat. Anne-Marie)       77525  \n",
       "...                                        ...         ...  \n",
       "13651                              Prism Heart       16542  \n",
       "13652                             Home Alright        1625  \n",
       "13656                         Beautiful People      118562  \n",
       "13671                               Not Enough      220572  \n",
       "13672                                  Lullaby       10358  \n",
       "\n",
       "[2580 rows x 4 columns]"
      ]
     },
     "execution_count": 45,
     "metadata": {},
     "output_type": "execute_result"
    }
   ],
   "source": [
    "first_played"
   ]
  },
  {
   "cell_type": "code",
   "execution_count": 46,
   "id": "c6e3f856",
   "metadata": {},
   "outputs": [],
   "source": [
    "first_played.to_csv(\"first_played.csv\", index=False)\n",
    "first_played_liked.to_csv(\"first_played_liked.csv\", index=False)"
   ]
  },
  {
   "cell_type": "code",
   "execution_count": null,
   "id": "685cb0dc",
   "metadata": {},
   "outputs": [
    {
     "data": {
      "application/vnd.microsoft.datawrangler.viewer.v0+json": {
       "columns": [
        {
         "name": "index",
         "rawType": "int64",
         "type": "integer"
        },
        {
         "name": "artistName",
         "rawType": "object",
         "type": "string"
        },
        {
         "name": "trackName",
         "rawType": "object",
         "type": "string"
        }
       ],
       "ref": "0b6cf7c3-de28-416f-a164-d9c32061e676",
       "rows": [
        [
         "56",
         "Squeezie",
         "Bye Bye"
        ],
        [
         "143",
         "Soprano",
         "En feu"
        ],
        [
         "145",
         "Kezah",
         "Mirador"
        ],
        [
         "344",
         "Imagine Dragons",
         "Thunder"
        ],
        [
         "350",
         "Crazy Frog",
         "Tricky"
        ],
        [
         "503",
         "Ed Sheeran",
         "Azizam"
        ],
        [
         "571",
         "The Chainsmokers",
         "High"
        ]
       ],
       "shape": {
        "columns": 2,
        "rows": 7
       }
      },
      "text/html": [
       "<div>\n",
       "<style scoped>\n",
       "    .dataframe tbody tr th:only-of-type {\n",
       "        vertical-align: middle;\n",
       "    }\n",
       "\n",
       "    .dataframe tbody tr th {\n",
       "        vertical-align: top;\n",
       "    }\n",
       "\n",
       "    .dataframe thead th {\n",
       "        text-align: right;\n",
       "    }\n",
       "</style>\n",
       "<table border=\"1\" class=\"dataframe\">\n",
       "  <thead>\n",
       "    <tr style=\"text-align: right;\">\n",
       "      <th></th>\n",
       "      <th>artistName</th>\n",
       "      <th>trackName</th>\n",
       "    </tr>\n",
       "  </thead>\n",
       "  <tbody>\n",
       "    <tr>\n",
       "      <th>56</th>\n",
       "      <td>Squeezie</td>\n",
       "      <td>Bye Bye</td>\n",
       "    </tr>\n",
       "    <tr>\n",
       "      <th>143</th>\n",
       "      <td>Soprano</td>\n",
       "      <td>En feu</td>\n",
       "    </tr>\n",
       "    <tr>\n",
       "      <th>145</th>\n",
       "      <td>Kezah</td>\n",
       "      <td>Mirador</td>\n",
       "    </tr>\n",
       "    <tr>\n",
       "      <th>344</th>\n",
       "      <td>Imagine Dragons</td>\n",
       "      <td>Thunder</td>\n",
       "    </tr>\n",
       "    <tr>\n",
       "      <th>350</th>\n",
       "      <td>Crazy Frog</td>\n",
       "      <td>Tricky</td>\n",
       "    </tr>\n",
       "    <tr>\n",
       "      <th>503</th>\n",
       "      <td>Ed Sheeran</td>\n",
       "      <td>Azizam</td>\n",
       "    </tr>\n",
       "    <tr>\n",
       "      <th>571</th>\n",
       "      <td>The Chainsmokers</td>\n",
       "      <td>High</td>\n",
       "    </tr>\n",
       "  </tbody>\n",
       "</table>\n",
       "</div>"
      ],
      "text/plain": [
       "           artistName trackName\n",
       "56           Squeezie   Bye Bye\n",
       "143           Soprano    En feu\n",
       "145             Kezah   Mirador\n",
       "344   Imagine Dragons   Thunder\n",
       "350        Crazy Frog    Tricky\n",
       "503        Ed Sheeran    Azizam\n",
       "571  The Chainsmokers      High"
      ]
     },
     "execution_count": 29,
     "metadata": {},
     "output_type": "execute_result"
    }
   ],
   "source": [
    "liked_not_played = df_history.merge(filtered[['artistName', 'trackName']], on=['artistName', 'trackName'], how='left', indicator=True)\n",
    "liked_not_played = liked_not_played[liked_not_played['_merge'] == 'left_only'].drop('_merge', axis=1)\n",
    "liked_not_played"
   ]
  },
  {
   "cell_type": "code",
   "execution_count": null,
   "id": "a1ba03a8",
   "metadata": {},
   "outputs": [
    {
     "data": {
      "application/vnd.microsoft.datawrangler.viewer.v0+json": {
       "columns": [
        {
         "name": "index",
         "rawType": "int64",
         "type": "integer"
        },
        {
         "name": "endTime",
         "rawType": "datetime64[ns]",
         "type": "datetime"
        },
        {
         "name": "artistName",
         "rawType": "object",
         "type": "string"
        },
        {
         "name": "trackName",
         "rawType": "object",
         "type": "string"
        },
        {
         "name": "timePlayed",
         "rawType": "int64",
         "type": "integer"
        }
       ],
       "ref": "04ae6b93-d85c-4abc-abbd-dc9d64938bec",
       "rows": [
        [
         "0",
         "2024-06-05 17:23:00",
         "Nora En Pure",
         "Aquatic",
         "39445"
        ],
        [
         "1",
         "2024-06-06 10:35:00",
         "Rogue",
         "Let's Talk",
         "10602"
        ],
        [
         "3",
         "2024-06-06 10:36:00",
         "King Serenity",
         "All for U (Ameyatchi)",
         "13653"
        ],
        [
         "4",
         "2024-06-06 10:38:00",
         "Jungeli",
         "Petit génie",
         "122069"
        ],
        [
         "5",
         "2024-06-06 10:39:00",
         "David Guetta",
         "Don't Leave Me Alone (feat. Anne-Marie)",
         "77525"
        ],
        [
         "6",
         "2024-06-06 11:51:00",
         "Aya Nakamura",
         "Copines",
         "84480"
        ],
        [
         "8",
         "2024-06-06 11:54:00",
         "Rema",
         "Calm Down",
         "107328"
        ],
        [
         "9",
         "2024-06-06 11:58:00",
         "Ed Sheeran",
         "Eyes Closed",
         "194848"
        ],
        [
         "10",
         "2024-06-06 11:59:00",
         "Billie Eilish",
         "hotline (edit)",
         "5065"
        ],
        [
         "11",
         "2024-06-06 11:59:00",
         "Richy Mitch & The Coal Miners",
         "Evergreen",
         "87000"
        ],
        [
         "12",
         "2024-06-06 13:21:00",
         "Eminem",
         "Houdini",
         "92827"
        ],
        [
         "13",
         "2024-06-06 13:21:00",
         "George Ezra",
         "Budapest",
         "540"
        ],
        [
         "14",
         "2024-06-06 13:22:00",
         "Timaya",
         "Cold Outside",
         "3818"
        ],
        [
         "16",
         "2024-06-06 13:27:00",
         "CKay",
         "emiliana",
         "166642"
        ],
        [
         "17",
         "2024-06-06 13:30:00",
         "Harry Styles",
         "Watermelon Sugar",
         "4202"
        ],
        [
         "18",
         "2024-06-06 13:30:00",
         "Tinlicker",
         "Because You Move Me",
         "144679"
        ],
        [
         "19",
         "2024-06-06 13:34:00",
         "Billie Eilish",
         "What Was I Made For? [From The Motion Picture \"Barbie\"]",
         "222369"
        ],
        [
         "20",
         "2024-06-06 13:36:00",
         "Tyler Shaw",
         "Love You Still (abcdefu romantic version)",
         "150173"
        ],
        [
         "21",
         "2024-06-06 13:38:00",
         "CKay",
         "love nwantiti (feat. ElGrande Toto) - North African Remix",
         "135480"
        ],
        [
         "22",
         "2024-06-06 13:42:00",
         "Jason Mraz",
         "I'm Yours",
         "242946"
        ],
        [
         "23",
         "2024-06-06 13:46:00",
         "JVKE",
         "this is what winter feels like",
         "194782"
        ],
        [
         "24",
         "2024-06-06 13:49:00",
         "Fools Garden",
         "Lemon Tree",
         "191026"
        ],
        [
         "25",
         "2024-06-06 13:52:00",
         "Trinix",
         "She Said (Big Jet Plane)",
         "173750"
        ],
        [
         "26",
         "2024-06-06 13:53:00",
         "Martin Arteta",
         "Past Lives",
         "76178"
        ],
        [
         "27",
         "2024-06-06 13:56:00",
         "Pheelz",
         "Finesse",
         "155293"
        ],
        [
         "28",
         "2024-06-06 13:59:00",
         "Kizz Daniel",
         "Nesesari",
         "178000"
        ],
        [
         "30",
         "2024-06-06 17:42:00",
         "Fireboy DML",
         "Bandana",
         "6624"
        ],
        [
         "33",
         "2024-06-06 20:34:00",
         "JVKE",
         "golden hour",
         "0"
        ],
        [
         "34",
         "2024-06-06 20:34:00",
         "Definition",
         "Trojan Love - Original Club Mix",
         "241"
        ],
        [
         "35",
         "2024-06-06 20:34:00",
         "Kygo",
         "Without You (with HAYLA)",
         "164"
        ],
        [
         "38",
         "2024-06-06 20:36:00",
         "Harry Styles",
         "As It Was",
         "0"
        ],
        [
         "42",
         "2024-06-06 20:42:00",
         "Clean Bandit",
         "Symphony (feat. Zara Larsson)",
         "8768"
        ],
        [
         "43",
         "2024-06-06 20:42:00",
         "Benson Boone",
         "Beautiful Things",
         "1258"
        ],
        [
         "44",
         "2024-06-06 20:42:00",
         "Crazy Frog",
         "Popcorn",
         "159473"
        ],
        [
         "46",
         "2024-06-06 20:43:00",
         "Majestic",
         "Rasputin",
         "44138"
        ],
        [
         "48",
         "2024-06-06 20:47:00",
         "Imanbek",
         "Belly Dancer",
         "53051"
        ],
        [
         "50",
         "2024-06-06 21:08:00",
         "PSY",
         "Gangnam Style (강남스타일)",
         "1553"
        ],
        [
         "52",
         "2024-06-06 21:10:00",
         "Gabry Ponte",
         "Thunder",
         "106346"
        ],
        [
         "53",
         "2024-06-06 21:13:00",
         "Nathan Evans",
         "Wellerman - Sea Shanty",
         "156160"
        ],
        [
         "54",
         "2024-06-06 21:16:00",
         "Taron Egerton",
         "A Sky Full of Stars",
         "206437"
        ],
        [
         "55",
         "2024-06-06 21:19:00",
         "Nathan Dawe",
         "21 Reasons (feat. Ella Henderson)",
         "155253"
        ],
        [
         "56",
         "2024-06-06 21:22:00",
         "Daddy Yankee",
         "Gasolina",
         "192600"
        ],
        [
         "57",
         "2024-06-06 21:25:00",
         "K'NAAN",
         "Wavin' Flag - Coca-Cola® Celebration Mix",
         "178684"
        ],
        [
         "58",
         "2024-06-06 21:28:00",
         "Riton",
         "Friday (feat. Mufasa & Hypeman) - Dopamine Re-Edit",
         "169153"
        ],
        [
         "59",
         "2024-06-06 21:31:00",
         "Jawsh 685",
         "Savage Love (Laxed - Siren Beat)",
         "171374"
        ],
        [
         "60",
         "2024-06-06 21:33:00",
         "Fly Project",
         "Toca Toca",
         "165605"
        ],
        [
         "61",
         "2024-06-06 21:37:00",
         "Carly Rae Jepsen",
         "Call Me Maybe",
         "193400"
        ],
        [
         "62",
         "2024-06-06 21:52:00",
         "Tones And I",
         "Dance Monkey",
         "155756"
        ],
        [
         "63",
         "2024-06-06 21:56:00",
         "American Authors",
         "Best Day Of My Life",
         "194240"
        ],
        [
         "64",
         "2024-06-06 22:00:00",
         "Bob Sinclar",
         "Rock This Party (Everybody Dance Now)",
         "245466"
        ]
       ],
       "shape": {
        "columns": 4,
        "rows": 2580
       }
      },
      "text/html": [
       "<div>\n",
       "<style scoped>\n",
       "    .dataframe tbody tr th:only-of-type {\n",
       "        vertical-align: middle;\n",
       "    }\n",
       "\n",
       "    .dataframe tbody tr th {\n",
       "        vertical-align: top;\n",
       "    }\n",
       "\n",
       "    .dataframe thead th {\n",
       "        text-align: right;\n",
       "    }\n",
       "</style>\n",
       "<table border=\"1\" class=\"dataframe\">\n",
       "  <thead>\n",
       "    <tr style=\"text-align: right;\">\n",
       "      <th></th>\n",
       "      <th>endTime</th>\n",
       "      <th>artistName</th>\n",
       "      <th>trackName</th>\n",
       "      <th>timePlayed</th>\n",
       "    </tr>\n",
       "  </thead>\n",
       "  <tbody>\n",
       "    <tr>\n",
       "      <th>0</th>\n",
       "      <td>2024-06-05 17:23:00</td>\n",
       "      <td>Nora En Pure</td>\n",
       "      <td>Aquatic</td>\n",
       "      <td>39445</td>\n",
       "    </tr>\n",
       "    <tr>\n",
       "      <th>1</th>\n",
       "      <td>2024-06-06 10:35:00</td>\n",
       "      <td>Rogue</td>\n",
       "      <td>Let's Talk</td>\n",
       "      <td>10602</td>\n",
       "    </tr>\n",
       "    <tr>\n",
       "      <th>3</th>\n",
       "      <td>2024-06-06 10:36:00</td>\n",
       "      <td>King Serenity</td>\n",
       "      <td>All for U (Ameyatchi)</td>\n",
       "      <td>13653</td>\n",
       "    </tr>\n",
       "    <tr>\n",
       "      <th>4</th>\n",
       "      <td>2024-06-06 10:38:00</td>\n",
       "      <td>Jungeli</td>\n",
       "      <td>Petit génie</td>\n",
       "      <td>122069</td>\n",
       "    </tr>\n",
       "    <tr>\n",
       "      <th>5</th>\n",
       "      <td>2024-06-06 10:39:00</td>\n",
       "      <td>David Guetta</td>\n",
       "      <td>Don't Leave Me Alone (feat. Anne-Marie)</td>\n",
       "      <td>77525</td>\n",
       "    </tr>\n",
       "    <tr>\n",
       "      <th>...</th>\n",
       "      <td>...</td>\n",
       "      <td>...</td>\n",
       "      <td>...</td>\n",
       "      <td>...</td>\n",
       "    </tr>\n",
       "    <tr>\n",
       "      <th>13651</th>\n",
       "      <td>2025-06-05 17:42:00</td>\n",
       "      <td>KEPIK</td>\n",
       "      <td>Prism Heart</td>\n",
       "      <td>16542</td>\n",
       "    </tr>\n",
       "    <tr>\n",
       "      <th>13652</th>\n",
       "      <td>2025-06-05 17:42:00</td>\n",
       "      <td>Terry Zhong</td>\n",
       "      <td>Home Alright</td>\n",
       "      <td>1625</td>\n",
       "    </tr>\n",
       "    <tr>\n",
       "      <th>13656</th>\n",
       "      <td>2025-06-05 17:53:00</td>\n",
       "      <td>David Guetta</td>\n",
       "      <td>Beautiful People</td>\n",
       "      <td>118562</td>\n",
       "    </tr>\n",
       "    <tr>\n",
       "      <th>13671</th>\n",
       "      <td>2025-06-05 19:10:00</td>\n",
       "      <td>Near x Far</td>\n",
       "      <td>Not Enough</td>\n",
       "      <td>220572</td>\n",
       "    </tr>\n",
       "    <tr>\n",
       "      <th>13672</th>\n",
       "      <td>2025-06-06 04:48:00</td>\n",
       "      <td>Dalic</td>\n",
       "      <td>Lullaby</td>\n",
       "      <td>10358</td>\n",
       "    </tr>\n",
       "  </tbody>\n",
       "</table>\n",
       "<p>2580 rows × 4 columns</p>\n",
       "</div>"
      ],
      "text/plain": [
       "                  endTime     artistName  \\\n",
       "0     2024-06-05 17:23:00   Nora En Pure   \n",
       "1     2024-06-06 10:35:00          Rogue   \n",
       "3     2024-06-06 10:36:00  King Serenity   \n",
       "4     2024-06-06 10:38:00        Jungeli   \n",
       "5     2024-06-06 10:39:00   David Guetta   \n",
       "...                   ...            ...   \n",
       "13651 2025-06-05 17:42:00          KEPIK   \n",
       "13652 2025-06-05 17:42:00    Terry Zhong   \n",
       "13656 2025-06-05 17:53:00   David Guetta   \n",
       "13671 2025-06-05 19:10:00     Near x Far   \n",
       "13672 2025-06-06 04:48:00          Dalic   \n",
       "\n",
       "                                     trackName  timePlayed  \n",
       "0                                      Aquatic       39445  \n",
       "1                                   Let's Talk       10602  \n",
       "3                        All for U (Ameyatchi)       13653  \n",
       "4                                  Petit génie      122069  \n",
       "5      Don't Leave Me Alone (feat. Anne-Marie)       77525  \n",
       "...                                        ...         ...  \n",
       "13651                              Prism Heart       16542  \n",
       "13652                             Home Alright        1625  \n",
       "13656                         Beautiful People      118562  \n",
       "13671                               Not Enough      220572  \n",
       "13672                                  Lullaby       10358  \n",
       "\n",
       "[2580 rows x 4 columns]"
      ]
     },
     "execution_count": 18,
     "metadata": {},
     "output_type": "execute_result"
    }
   ],
   "source": [
    "first_played"
   ]
  },
  {
   "cell_type": "code",
   "execution_count": 47,
   "id": "028e292b",
   "metadata": {},
   "outputs": [
    {
     "name": "stdout",
     "output_type": "stream",
     "text": [
      "endTime\n",
      "2024-06-06    29\n",
      "2024-06-07    15\n",
      "2024-06-08     1\n",
      "2024-06-09    14\n",
      "2024-06-10     7\n",
      "              ..\n",
      "2025-06-01     0\n",
      "2025-06-02     0\n",
      "2025-06-03     0\n",
      "2025-06-04     3\n",
      "2025-06-05     2\n",
      "Freq: D, Length: 365, dtype: int64\n"
     ]
    },
    {
     "data": {
      "image/png": "[encoded data removed]",
      "text/plain": [
       "<Figure size 640x480 with 1 Axes>"
      ]
     },
     "metadata": {},
     "output_type": "display_data"
    }
   ],
   "source": [
    "df_groups = first_played_liked.groupby(pd.Grouper(key='endTime', freq=\"1D\"))\n",
    "df_counts = df_groups.size()\n",
    "#df_counts.to_csv(f\"df_counts_{freq}.csv\")\n",
    "print(df_counts)\n",
    "plt.bar(df_counts.index,df_counts)\n",
    "plt.gcf().autofmt_xdate()\n",
    "plt.show()"
   ]
  }
 ],
 "metadata": {
  "kernelspec": {
   "display_name": "Python 3",
   "language": "python",
   "name": "python3"
  },
  "language_info": {
   "codemirror_mode": {
    "name": "ipython",
    "version": 3
   },
   "file_extension": ".py",
   "mimetype": "text/x-python",
   "name": "python",
   "nbconvert_exporter": "python",
   "pygments_lexer": "ipython3",
   "version": "3.13.3"
  }
 },
 "nbformat": 4,
 "nbformat_minor": 5
}
